{
  "cells": [
    {
      "cell_type": "markdown",
      "metadata": {
        "id": "k_KzoZ0sFG27"
      },
      "source": [
        "# Lista de exercícios 2 - Deep Learning\n",
        "\n",
        "Pedro Augusto Gomes Medeiros - 20210024522\n",
        "\n",
        "(Sou o que não está matriculado)"
      ]
    },
    {
      "cell_type": "markdown",
      "metadata": {
        "id": "qYiBiCihFYoc"
      },
      "source": [
        "## Imports"
      ]
    },
    {
      "cell_type": "code",
      "execution_count": 1,
      "metadata": {
        "id": "IdJa1X1mFcrF"
      },
      "outputs": [],
      "source": [
        "import numpy as np\n",
        "import matplotlib.pyplot as plt\n",
        "import pandas as pd\n",
        "import seaborn as sns\n",
        "import plotly.express as px\n",
        "from sklearn.preprocessing import MinMaxScaler\n",
        "import torch\n",
        "import torch.nn as nn\n",
        "import torch.optim as optim\n",
        "from torch.utils.data import DataLoader, TensorDataset\n",
        "from sklearn.model_selection import train_test_split\n",
        "from sklearn.metrics import confusion_matrix, classification_report\n",
        "import idx2numpy\n",
        "import pickle"
      ]
    },
    {
      "cell_type": "markdown",
      "metadata": {
        "id": "JQjJNVwoEzxe"
      },
      "source": [
        "# Questão 1"
      ]
    },
    {
      "cell_type": "markdown",
      "metadata": {
        "id": "POj9fz0LEr1P"
      },
      "source": [
        "1-) Implemente uma Rede Neural Artificial que faça a predição se um passageiro sobreviveu ou\n",
        "não ao acidente do Titanic. Embora houvesse algum elemento de sorte envolvido na\n",
        "sobrevivência dos envolvidos, aparentemente alguns grupos de pessoas tinham mais\n",
        "probabilidade de sobreviver do que outros. Neste exercício, você deve tentar criar um modelo\n",
        "preditivo, usando os dados de passageiros (ou seja, nome, idade, sexo, classe\n",
        "socioeconômica, etc.), que procure responder à pergunta: \"que tipo de pessoa tem mais\n",
        "probabilidade de sobreviver?\"\n",
        "\n",
        "A base de dados do problema pode ser acessada através do\n",
        "seguinte link: https://www.kaggle.com/c/titanic/data.\n",
        "\n",
        "Apresente também a curva do erro médio de treinamento com relação ao número de épocas e\n",
        "a curva do erro médio com o conjunto de validação ou teste. Calcule e apresente também a\n",
        "matriz de confusão do modelo.\n",
        "\n",
        "Dica: Analisem cuidadosamente a base de dados utilizada. Observem que alguns usuários\n",
        "possuem dados faltantes, inconsistentes, e algumas características (features) são redundantes.\n",
        "Dessa forma, a aplicação de técnicas de pré-processamento vistas nas nossas aulas pode ser\n",
        "importante para resolução do problema.\n"
      ]
    },
    {
      "cell_type": "markdown",
      "metadata": {},
      "source": [
        "## Pré-processamento"
      ]
    },
    {
      "cell_type": "code",
      "execution_count": 5,
      "metadata": {
        "id": "_iXonzgSFhzx"
      },
      "outputs": [
        {
          "data": {
            "text/html": [
              "<div>\n",
              "<style scoped>\n",
              "    .dataframe tbody tr th:only-of-type {\n",
              "        vertical-align: middle;\n",
              "    }\n",
              "\n",
              "    .dataframe tbody tr th {\n",
              "        vertical-align: top;\n",
              "    }\n",
              "\n",
              "    .dataframe thead th {\n",
              "        text-align: right;\n",
              "    }\n",
              "</style>\n",
              "<table border=\"1\" class=\"dataframe\">\n",
              "  <thead>\n",
              "    <tr style=\"text-align: right;\">\n",
              "      <th></th>\n",
              "      <th>PassengerId</th>\n",
              "      <th>Survived</th>\n",
              "      <th>Pclass</th>\n",
              "      <th>Name</th>\n",
              "      <th>Sex</th>\n",
              "      <th>Age</th>\n",
              "      <th>SibSp</th>\n",
              "      <th>Parch</th>\n",
              "      <th>Ticket</th>\n",
              "      <th>Fare</th>\n",
              "      <th>Cabin</th>\n",
              "      <th>Embarked</th>\n",
              "    </tr>\n",
              "  </thead>\n",
              "  <tbody>\n",
              "    <tr>\n",
              "      <th>0</th>\n",
              "      <td>1</td>\n",
              "      <td>0</td>\n",
              "      <td>3</td>\n",
              "      <td>Braund, Mr. Owen Harris</td>\n",
              "      <td>male</td>\n",
              "      <td>22.0</td>\n",
              "      <td>1</td>\n",
              "      <td>0</td>\n",
              "      <td>A/5 21171</td>\n",
              "      <td>7.2500</td>\n",
              "      <td>NaN</td>\n",
              "      <td>S</td>\n",
              "    </tr>\n",
              "    <tr>\n",
              "      <th>1</th>\n",
              "      <td>2</td>\n",
              "      <td>1</td>\n",
              "      <td>1</td>\n",
              "      <td>Cumings, Mrs. John Bradley (Florence Briggs Th...</td>\n",
              "      <td>female</td>\n",
              "      <td>38.0</td>\n",
              "      <td>1</td>\n",
              "      <td>0</td>\n",
              "      <td>PC 17599</td>\n",
              "      <td>71.2833</td>\n",
              "      <td>C85</td>\n",
              "      <td>C</td>\n",
              "    </tr>\n",
              "    <tr>\n",
              "      <th>2</th>\n",
              "      <td>3</td>\n",
              "      <td>1</td>\n",
              "      <td>3</td>\n",
              "      <td>Heikkinen, Miss. Laina</td>\n",
              "      <td>female</td>\n",
              "      <td>26.0</td>\n",
              "      <td>0</td>\n",
              "      <td>0</td>\n",
              "      <td>STON/O2. 3101282</td>\n",
              "      <td>7.9250</td>\n",
              "      <td>NaN</td>\n",
              "      <td>S</td>\n",
              "    </tr>\n",
              "    <tr>\n",
              "      <th>3</th>\n",
              "      <td>4</td>\n",
              "      <td>1</td>\n",
              "      <td>1</td>\n",
              "      <td>Futrelle, Mrs. Jacques Heath (Lily May Peel)</td>\n",
              "      <td>female</td>\n",
              "      <td>35.0</td>\n",
              "      <td>1</td>\n",
              "      <td>0</td>\n",
              "      <td>113803</td>\n",
              "      <td>53.1000</td>\n",
              "      <td>C123</td>\n",
              "      <td>S</td>\n",
              "    </tr>\n",
              "    <tr>\n",
              "      <th>4</th>\n",
              "      <td>5</td>\n",
              "      <td>0</td>\n",
              "      <td>3</td>\n",
              "      <td>Allen, Mr. William Henry</td>\n",
              "      <td>male</td>\n",
              "      <td>35.0</td>\n",
              "      <td>0</td>\n",
              "      <td>0</td>\n",
              "      <td>373450</td>\n",
              "      <td>8.0500</td>\n",
              "      <td>NaN</td>\n",
              "      <td>S</td>\n",
              "    </tr>\n",
              "    <tr>\n",
              "      <th>...</th>\n",
              "      <td>...</td>\n",
              "      <td>...</td>\n",
              "      <td>...</td>\n",
              "      <td>...</td>\n",
              "      <td>...</td>\n",
              "      <td>...</td>\n",
              "      <td>...</td>\n",
              "      <td>...</td>\n",
              "      <td>...</td>\n",
              "      <td>...</td>\n",
              "      <td>...</td>\n",
              "      <td>...</td>\n",
              "    </tr>\n",
              "    <tr>\n",
              "      <th>886</th>\n",
              "      <td>887</td>\n",
              "      <td>0</td>\n",
              "      <td>2</td>\n",
              "      <td>Montvila, Rev. Juozas</td>\n",
              "      <td>male</td>\n",
              "      <td>27.0</td>\n",
              "      <td>0</td>\n",
              "      <td>0</td>\n",
              "      <td>211536</td>\n",
              "      <td>13.0000</td>\n",
              "      <td>NaN</td>\n",
              "      <td>S</td>\n",
              "    </tr>\n",
              "    <tr>\n",
              "      <th>887</th>\n",
              "      <td>888</td>\n",
              "      <td>1</td>\n",
              "      <td>1</td>\n",
              "      <td>Graham, Miss. Margaret Edith</td>\n",
              "      <td>female</td>\n",
              "      <td>19.0</td>\n",
              "      <td>0</td>\n",
              "      <td>0</td>\n",
              "      <td>112053</td>\n",
              "      <td>30.0000</td>\n",
              "      <td>B42</td>\n",
              "      <td>S</td>\n",
              "    </tr>\n",
              "    <tr>\n",
              "      <th>888</th>\n",
              "      <td>889</td>\n",
              "      <td>0</td>\n",
              "      <td>3</td>\n",
              "      <td>Johnston, Miss. Catherine Helen \"Carrie\"</td>\n",
              "      <td>female</td>\n",
              "      <td>NaN</td>\n",
              "      <td>1</td>\n",
              "      <td>2</td>\n",
              "      <td>W./C. 6607</td>\n",
              "      <td>23.4500</td>\n",
              "      <td>NaN</td>\n",
              "      <td>S</td>\n",
              "    </tr>\n",
              "    <tr>\n",
              "      <th>889</th>\n",
              "      <td>890</td>\n",
              "      <td>1</td>\n",
              "      <td>1</td>\n",
              "      <td>Behr, Mr. Karl Howell</td>\n",
              "      <td>male</td>\n",
              "      <td>26.0</td>\n",
              "      <td>0</td>\n",
              "      <td>0</td>\n",
              "      <td>111369</td>\n",
              "      <td>30.0000</td>\n",
              "      <td>C148</td>\n",
              "      <td>C</td>\n",
              "    </tr>\n",
              "    <tr>\n",
              "      <th>890</th>\n",
              "      <td>891</td>\n",
              "      <td>0</td>\n",
              "      <td>3</td>\n",
              "      <td>Dooley, Mr. Patrick</td>\n",
              "      <td>male</td>\n",
              "      <td>32.0</td>\n",
              "      <td>0</td>\n",
              "      <td>0</td>\n",
              "      <td>370376</td>\n",
              "      <td>7.7500</td>\n",
              "      <td>NaN</td>\n",
              "      <td>Q</td>\n",
              "    </tr>\n",
              "  </tbody>\n",
              "</table>\n",
              "<p>891 rows × 12 columns</p>\n",
              "</div>"
            ],
            "text/plain": [
              "     PassengerId  Survived  Pclass  \\\n",
              "0              1         0       3   \n",
              "1              2         1       1   \n",
              "2              3         1       3   \n",
              "3              4         1       1   \n",
              "4              5         0       3   \n",
              "..           ...       ...     ...   \n",
              "886          887         0       2   \n",
              "887          888         1       1   \n",
              "888          889         0       3   \n",
              "889          890         1       1   \n",
              "890          891         0       3   \n",
              "\n",
              "                                                  Name     Sex   Age  SibSp  \\\n",
              "0                              Braund, Mr. Owen Harris    male  22.0      1   \n",
              "1    Cumings, Mrs. John Bradley (Florence Briggs Th...  female  38.0      1   \n",
              "2                               Heikkinen, Miss. Laina  female  26.0      0   \n",
              "3         Futrelle, Mrs. Jacques Heath (Lily May Peel)  female  35.0      1   \n",
              "4                             Allen, Mr. William Henry    male  35.0      0   \n",
              "..                                                 ...     ...   ...    ...   \n",
              "886                              Montvila, Rev. Juozas    male  27.0      0   \n",
              "887                       Graham, Miss. Margaret Edith  female  19.0      0   \n",
              "888           Johnston, Miss. Catherine Helen \"Carrie\"  female   NaN      1   \n",
              "889                              Behr, Mr. Karl Howell    male  26.0      0   \n",
              "890                                Dooley, Mr. Patrick    male  32.0      0   \n",
              "\n",
              "     Parch            Ticket     Fare Cabin Embarked  \n",
              "0        0         A/5 21171   7.2500   NaN        S  \n",
              "1        0          PC 17599  71.2833   C85        C  \n",
              "2        0  STON/O2. 3101282   7.9250   NaN        S  \n",
              "3        0            113803  53.1000  C123        S  \n",
              "4        0            373450   8.0500   NaN        S  \n",
              "..     ...               ...      ...   ...      ...  \n",
              "886      0            211536  13.0000   NaN        S  \n",
              "887      0            112053  30.0000   B42        S  \n",
              "888      2        W./C. 6607  23.4500   NaN        S  \n",
              "889      0            111369  30.0000  C148        C  \n",
              "890      0            370376   7.7500   NaN        Q  \n",
              "\n",
              "[891 rows x 12 columns]"
            ]
          },
          "execution_count": 5,
          "metadata": {},
          "output_type": "execute_result"
        }
      ],
      "source": [
        "# Dataframe de treino\n",
        "titanic_train = pd.read_csv('titanic/train.csv')\n",
        "titanic_train"
      ]
    },
    {
      "cell_type": "code",
      "execution_count": 119,
      "metadata": {},
      "outputs": [],
      "source": [
        "# Dropando atributos nominais\n",
        "titanic_train.drop(['PassengerId', 'Name', 'Ticket', 'Cabin'], axis=1, inplace=True)"
      ]
    },
    {
      "cell_type": "code",
      "execution_count": 120,
      "metadata": {},
      "outputs": [
        {
          "data": {
            "text/html": [
              "<div>\n",
              "<style scoped>\n",
              "    .dataframe tbody tr th:only-of-type {\n",
              "        vertical-align: middle;\n",
              "    }\n",
              "\n",
              "    .dataframe tbody tr th {\n",
              "        vertical-align: top;\n",
              "    }\n",
              "\n",
              "    .dataframe thead th {\n",
              "        text-align: right;\n",
              "    }\n",
              "</style>\n",
              "<table border=\"1\" class=\"dataframe\">\n",
              "  <thead>\n",
              "    <tr style=\"text-align: right;\">\n",
              "      <th></th>\n",
              "      <th>Survived</th>\n",
              "      <th>Pclass</th>\n",
              "      <th>Sex</th>\n",
              "      <th>Age</th>\n",
              "      <th>SibSp</th>\n",
              "      <th>Parch</th>\n",
              "      <th>Fare</th>\n",
              "      <th>Embarked</th>\n",
              "    </tr>\n",
              "  </thead>\n",
              "  <tbody>\n",
              "    <tr>\n",
              "      <th>0</th>\n",
              "      <td>0</td>\n",
              "      <td>3</td>\n",
              "      <td>male</td>\n",
              "      <td>22.0</td>\n",
              "      <td>1</td>\n",
              "      <td>0</td>\n",
              "      <td>7.2500</td>\n",
              "      <td>S</td>\n",
              "    </tr>\n",
              "    <tr>\n",
              "      <th>1</th>\n",
              "      <td>1</td>\n",
              "      <td>1</td>\n",
              "      <td>female</td>\n",
              "      <td>38.0</td>\n",
              "      <td>1</td>\n",
              "      <td>0</td>\n",
              "      <td>71.2833</td>\n",
              "      <td>C</td>\n",
              "    </tr>\n",
              "    <tr>\n",
              "      <th>2</th>\n",
              "      <td>1</td>\n",
              "      <td>3</td>\n",
              "      <td>female</td>\n",
              "      <td>26.0</td>\n",
              "      <td>0</td>\n",
              "      <td>0</td>\n",
              "      <td>7.9250</td>\n",
              "      <td>S</td>\n",
              "    </tr>\n",
              "    <tr>\n",
              "      <th>3</th>\n",
              "      <td>1</td>\n",
              "      <td>1</td>\n",
              "      <td>female</td>\n",
              "      <td>35.0</td>\n",
              "      <td>1</td>\n",
              "      <td>0</td>\n",
              "      <td>53.1000</td>\n",
              "      <td>S</td>\n",
              "    </tr>\n",
              "    <tr>\n",
              "      <th>4</th>\n",
              "      <td>0</td>\n",
              "      <td>3</td>\n",
              "      <td>male</td>\n",
              "      <td>35.0</td>\n",
              "      <td>0</td>\n",
              "      <td>0</td>\n",
              "      <td>8.0500</td>\n",
              "      <td>S</td>\n",
              "    </tr>\n",
              "  </tbody>\n",
              "</table>\n",
              "</div>"
            ],
            "text/plain": [
              "   Survived  Pclass     Sex   Age  SibSp  Parch     Fare Embarked\n",
              "0         0       3    male  22.0      1      0   7.2500        S\n",
              "1         1       1  female  38.0      1      0  71.2833        C\n",
              "2         1       3  female  26.0      0      0   7.9250        S\n",
              "3         1       1  female  35.0      1      0  53.1000        S\n",
              "4         0       3    male  35.0      0      0   8.0500        S"
            ]
          },
          "execution_count": 120,
          "metadata": {},
          "output_type": "execute_result"
        }
      ],
      "source": [
        "titanic_train.head()"
      ]
    },
    {
      "cell_type": "code",
      "execution_count": 121,
      "metadata": {},
      "outputs": [
        {
          "data": {
            "text/plain": [
              "Survived      0\n",
              "Pclass        0\n",
              "Sex           0\n",
              "Age         177\n",
              "SibSp         0\n",
              "Parch         0\n",
              "Fare          0\n",
              "Embarked      2\n",
              "dtype: int64"
            ]
          },
          "execution_count": 121,
          "metadata": {},
          "output_type": "execute_result"
        }
      ],
      "source": [
        "titanic_train.isnull().sum()"
      ]
    },
    {
      "cell_type": "code",
      "execution_count": 6,
      "metadata": {},
      "outputs": [],
      "source": [
        "# Preenchendo os valores faltantes da coluna \"Age\" com a moda\n",
        "mode_age = titanic_train['Age'].mode()[0]\n",
        "titanic_train['Age'] = titanic_train['Age'].fillna(mode_age)"
      ]
    },
    {
      "cell_type": "code",
      "execution_count": 125,
      "metadata": {},
      "outputs": [
        {
          "name": "stdout",
          "output_type": "stream",
          "text": [
            "Embarked\n",
            "S    644\n",
            "C    168\n",
            "Q     77\n",
            "Name: count, dtype: int64\n"
          ]
        }
      ],
      "source": [
        "embarked_counts = titanic_train['Embarked'].value_counts()\n",
        "print(embarked_counts)"
      ]
    },
    {
      "cell_type": "code",
      "execution_count": 126,
      "metadata": {},
      "outputs": [],
      "source": [
        "# Como a maioria esmagadora dos passageiros embarcou no porto S, vamos usar ele pra prencher os 2 que estavam ausentes\n",
        "titanic_train['Embarked'].fillna('S', inplace=True)"
      ]
    },
    {
      "cell_type": "code",
      "execution_count": 128,
      "metadata": {},
      "outputs": [
        {
          "data": {
            "text/plain": [
              "Survived    0\n",
              "Pclass      0\n",
              "Sex         0\n",
              "Age         0\n",
              "SibSp       0\n",
              "Parch       0\n",
              "Fare        0\n",
              "Embarked    0\n",
              "dtype: int64"
            ]
          },
          "execution_count": 128,
          "metadata": {},
          "output_type": "execute_result"
        }
      ],
      "source": [
        "titanic_train.isnull().sum()"
      ]
    },
    {
      "cell_type": "code",
      "execution_count": 130,
      "metadata": {},
      "outputs": [],
      "source": [
        "# Usando o one hot encoder em Embarked, Pclass e Sex\n",
        "titanic_train = pd.get_dummies(titanic_train, columns=['Embarked', 'Sex', 'Pclass'])"
      ]
    },
    {
      "cell_type": "code",
      "execution_count": 132,
      "metadata": {},
      "outputs": [
        {
          "data": {
            "text/html": [
              "<div>\n",
              "<style scoped>\n",
              "    .dataframe tbody tr th:only-of-type {\n",
              "        vertical-align: middle;\n",
              "    }\n",
              "\n",
              "    .dataframe tbody tr th {\n",
              "        vertical-align: top;\n",
              "    }\n",
              "\n",
              "    .dataframe thead th {\n",
              "        text-align: right;\n",
              "    }\n",
              "</style>\n",
              "<table border=\"1\" class=\"dataframe\">\n",
              "  <thead>\n",
              "    <tr style=\"text-align: right;\">\n",
              "      <th></th>\n",
              "      <th>Survived</th>\n",
              "      <th>Age</th>\n",
              "      <th>SibSp</th>\n",
              "      <th>Parch</th>\n",
              "      <th>Fare</th>\n",
              "      <th>Embarked_C</th>\n",
              "      <th>Embarked_Q</th>\n",
              "      <th>Embarked_S</th>\n",
              "      <th>Sex_female</th>\n",
              "      <th>Sex_male</th>\n",
              "      <th>Pclass_1</th>\n",
              "      <th>Pclass_2</th>\n",
              "      <th>Pclass_3</th>\n",
              "    </tr>\n",
              "  </thead>\n",
              "  <tbody>\n",
              "    <tr>\n",
              "      <th>0</th>\n",
              "      <td>0</td>\n",
              "      <td>22.0</td>\n",
              "      <td>1</td>\n",
              "      <td>0</td>\n",
              "      <td>7.2500</td>\n",
              "      <td>False</td>\n",
              "      <td>False</td>\n",
              "      <td>True</td>\n",
              "      <td>False</td>\n",
              "      <td>True</td>\n",
              "      <td>False</td>\n",
              "      <td>False</td>\n",
              "      <td>True</td>\n",
              "    </tr>\n",
              "    <tr>\n",
              "      <th>1</th>\n",
              "      <td>1</td>\n",
              "      <td>38.0</td>\n",
              "      <td>1</td>\n",
              "      <td>0</td>\n",
              "      <td>71.2833</td>\n",
              "      <td>True</td>\n",
              "      <td>False</td>\n",
              "      <td>False</td>\n",
              "      <td>True</td>\n",
              "      <td>False</td>\n",
              "      <td>True</td>\n",
              "      <td>False</td>\n",
              "      <td>False</td>\n",
              "    </tr>\n",
              "    <tr>\n",
              "      <th>2</th>\n",
              "      <td>1</td>\n",
              "      <td>26.0</td>\n",
              "      <td>0</td>\n",
              "      <td>0</td>\n",
              "      <td>7.9250</td>\n",
              "      <td>False</td>\n",
              "      <td>False</td>\n",
              "      <td>True</td>\n",
              "      <td>True</td>\n",
              "      <td>False</td>\n",
              "      <td>False</td>\n",
              "      <td>False</td>\n",
              "      <td>True</td>\n",
              "    </tr>\n",
              "    <tr>\n",
              "      <th>3</th>\n",
              "      <td>1</td>\n",
              "      <td>35.0</td>\n",
              "      <td>1</td>\n",
              "      <td>0</td>\n",
              "      <td>53.1000</td>\n",
              "      <td>False</td>\n",
              "      <td>False</td>\n",
              "      <td>True</td>\n",
              "      <td>True</td>\n",
              "      <td>False</td>\n",
              "      <td>True</td>\n",
              "      <td>False</td>\n",
              "      <td>False</td>\n",
              "    </tr>\n",
              "    <tr>\n",
              "      <th>4</th>\n",
              "      <td>0</td>\n",
              "      <td>35.0</td>\n",
              "      <td>0</td>\n",
              "      <td>0</td>\n",
              "      <td>8.0500</td>\n",
              "      <td>False</td>\n",
              "      <td>False</td>\n",
              "      <td>True</td>\n",
              "      <td>False</td>\n",
              "      <td>True</td>\n",
              "      <td>False</td>\n",
              "      <td>False</td>\n",
              "      <td>True</td>\n",
              "    </tr>\n",
              "  </tbody>\n",
              "</table>\n",
              "</div>"
            ],
            "text/plain": [
              "   Survived   Age  SibSp  Parch     Fare  Embarked_C  Embarked_Q  Embarked_S  \\\n",
              "0         0  22.0      1      0   7.2500       False       False        True   \n",
              "1         1  38.0      1      0  71.2833        True       False       False   \n",
              "2         1  26.0      0      0   7.9250       False       False        True   \n",
              "3         1  35.0      1      0  53.1000       False       False        True   \n",
              "4         0  35.0      0      0   8.0500       False       False        True   \n",
              "\n",
              "   Sex_female  Sex_male  Pclass_1  Pclass_2  Pclass_3  \n",
              "0       False      True     False     False      True  \n",
              "1        True     False      True     False     False  \n",
              "2        True     False     False     False      True  \n",
              "3        True     False      True     False     False  \n",
              "4       False      True     False     False      True  "
            ]
          },
          "execution_count": 132,
          "metadata": {},
          "output_type": "execute_result"
        }
      ],
      "source": [
        "titanic_train.head()"
      ]
    },
    {
      "cell_type": "code",
      "execution_count": 134,
      "metadata": {},
      "outputs": [],
      "source": [
        "titanic_train['FamilySize'] = titanic_train['Parch'] + titanic_train['SibSp']\n",
        "titanic_train = titanic_train.drop(['Parch', 'SibSp'], axis=1)"
      ]
    },
    {
      "cell_type": "code",
      "execution_count": 135,
      "metadata": {},
      "outputs": [
        {
          "data": {
            "text/plain": [
              "<Axes: >"
            ]
          },
          "execution_count": 135,
          "metadata": {},
          "output_type": "execute_result"
        },
        {
          "data": {
            "image/png": "[encoded data removed]",
            "text/plain": [
              "<Figure size 1000x800 with 2 Axes>"
            ]
          },
          "metadata": {},
          "output_type": "display_data"
        }
      ],
      "source": [
        "# Plotando a correlação dos atributos\n",
        "correlation_train = titanic_train.corr() \n",
        "sns.set_theme(font_scale=0.8)\n",
        "plt.figure(figsize=(10, 8))\n",
        "sns.heatmap(correlation_train, annot=True, fmt=\".2f\", cmap='coolwarm')"
      ]
    },
    {
      "cell_type": "code",
      "execution_count": 145,
      "metadata": {},
      "outputs": [],
      "source": [
        "# Não tinha nenhuma correlação muito significativa entre os atributos e a saída desejada, então vou manter todos\n",
        "# Dava pra truncar os atributos que eu passei pelo encoder pra reduzir a dimensionalidade\n",
        "# Mas irei manter, por questão de legibilidade, já que o mesmo com elas, as tabelas ainda são bem pequenas"
      ]
    },
    {
      "cell_type": "code",
      "execution_count": 146,
      "metadata": {},
      "outputs": [
        {
          "data": {
            "application/vnd.plotly.v1+json": {
              "config": {
                "plotlyServerURL": "https://plot.ly"
              },
              "data": [
                {
                  "hovertemplate": "Fare=%{x}<br>index=%{y}<extra></extra>",
                  "legendgroup": "",
                  "marker": {
                    "color": "#636efa",
                    "symbol": "circle"
                  },
                  "mode": "markers",
                  "name": "",
                  "orientation": "h",
                  "showlegend": false,
                  "type": "scatter",
                  "x": [
                    0.006373937677053824,
                    0.13233789738747243,
                    0.00769200503619767,
                    0.09657302486622599,
                    0.00794774944916588,
                    0.008754327982373309,
                    0.0941336166194523,
                    0.033581208687440973,
                    0.014006924771797291,
                    0.0512669184765502,
                    0.024964589235127475,
                    0.044342146679257156,
                    0.00794774944916588,
                    0.053647308781869685,
                    0.0075542965061378645,
                    0.02358750393452943,
                    0.049398016997167137,
                    0.017685709789109223,
                    0.027522033364809566,
                    0.006314919735599622,
                    0.04326015108593012,
                    0.017685709789109223,
                    0.007908404154863076,
                    0.06194916587976078,
                    0.033581208687440973,
                    0.05386370790053509,
                    0.006314919735599622,
                    0.5095018885741265,
                    0.007613314447592067,
                    0.007652659741894869,
                    0.046643846395971036,
                    0.2803548945546112,
                    0.007357570034623858,
                    0.012767548001259047,
                    0.15376141013534778,
                    0.09440903367957192,
                    0.006334592382751024,
                    0.00794774944916588,
                    0.027522033364809566,
                    0.014223323890462698,
                    0.010760937991816178,
                    0.03342382751022977,
                    0.007652659741894869,
                    0.07391013534781239,
                    0.007613314447592067,
                    0.00794774944916588,
                    0.022603871576959395,
                    0.007357570034623858,
                    0.03476156751652502,
                    0.027128580421781553,
                    0.07019200503619766,
                    0.0074559332703808615,
                    0.1430594900849858,
                    0.04326015108593012,
                    0.11404233553666979,
                    0.06194916587976078,
                    0.012767548001259047,
                    0.006334592382751024,
                    0.04670286433742524,
                    0.08437598363235756,
                    0.006334592382751024,
                    0.14949244570349382,
                    0.15633852691218128,
                    0.04699795404469625,
                    0.046643846395971036,
                    0.022112055398174374,
                    0.012767548001259047,
                    0.008164148567831287,
                    0.00769200503619767,
                    0.009147780925401321,
                    0.012767548001259047,
                    0.08437598363235756,
                    0.13670522505508337,
                    0.020538243626062318,
                    0.10326172489770222,
                    0.007160843563109852,
                    0.007652659741894869,
                    0.00794774944916588,
                    0.049161945231350326,
                    0.01666273213723639,
                    0.009816650928548944,
                    0.010800283286118978,
                    0.007436260623229461,
                    0.08476943657538558,
                    0.012767548001259047,
                    0.023292414227258418,
                    0.05974582939880391,
                    0.00794774944916588,
                    0.5095018885741265,
                    0.00794774944916588,
                    0.00794774944916588,
                    0.0075542965061378645,
                    0.11246852376455774,
                    0.03259757632987094,
                    0.006373937677053824,
                    0.00794774944916588,
                    0.060276990871891714,
                    0.1167571608435631,
                    0.03735835694050991,
                    0.04326015108593012,
                    0.007652659741894869,
                    0.007652659741894869,
                    0.14416115832546425,
                    0.00912810827824992,
                    0.00769200503619767,
                    0.007652659741894869,
                    0.007160843563109852,
                    0.007416587976078061,
                    0.007652659741894869,
                    0.03962071136292099,
                    0.09440903367957192,
                    0.020538243626062318,
                    0.00794774944916588,
                    0.0114298079949638,
                    0.020557916273213725,
                    0.00769200503619767,
                    0.007357570034623858,
                    0.03342382751022977,
                    0.4790486307837582,
                    0.053647308781869685,
                    0.13670522505508337,
                    0.00794774944916588,
                    0.0512669184765502,
                    0.017685709789109223,
                    0.14416115832546425,
                    0.014223323890462698,
                    0.007357570034623858,
                    0.006157538558388416,
                    0.03609930752282026,
                    0.0058427762039660065,
                    0.007652659741894869,
                    0.00598048473402581,
                    0.020636606861819326,
                    0.04326015108593012,
                    0.017685709789109223,
                    0.02171860245514636,
                    0.04381098520616934,
                    0.09657302486622599,
                    0.01024944916587976,
                    0.14791863393138177,
                    0.022112055398174374,
                    0.007357570034623858,
                    0.023292414227258418,
                    0.00539030531948379,
                    0.014734812716399115,
                    0.06440824677368585,
                    0.0074559332703808615,
                    0.05974582939880391,
                    0.04326015108593012,
                    0.017685709789109223,
                    0.01674142272584199,
                    0.12313109852061692,
                    0.00794774944916588,
                    0.020636606861819326,
                    0.0064919735599622275,
                    0.11286197670758576,
                    0.007318224740321058,
                    0.00794774944916588,
                    0.009147780925401321,
                    0.1289345294302801,
                    0.02378423040604344,
                    0.023095687755744408,
                    0.007416587976078061,
                    0.009147780925401321,
                    0.07019200503619766,
                    0.03247954044696254,
                    0.10031082782499212,
                    0.04699795404469625,
                    0.04310276990871892,
                    0.10326172489770222,
                    0.05801463644948064,
                    0.049398016997167137,
                    0.014006924771797291,
                    0.00769200503619767,
                    0.05250629524708844,
                    0.0075542965061378645,
                    0.04221750078690588,
                    0.048591438463959705,
                    0.017685709789109223,
                    0.020538243626062318,
                    0.1289345294302801,
                    0.02171860245514636,
                    0.05386370790053509,
                    0.06883459238275101,
                    0.03543043751967264,
                    0.09047450424929178,
                    0.022603871576959395,
                    0.044342146679257156,
                    0.022603871576959395,
                    0.007652659741894869,
                    0.017685709789109223,
                    0.017685709789109223,
                    0.0075542965061378645,
                    0.04326015108593012,
                    0.046643846395971036,
                    0.2803548945546112,
                    0.007357570034623858,
                    0.008636292099464904,
                    0.007357570034623858,
                    0.017685709789109223,
                    0.010800283286118978,
                    0.1289345294302801,
                    0.004898489140698773,
                    0.006314919735599622,
                    0.00794774944916588,
                    0.012688857412653446,
                    0.023292414227258418,
                    0.02907617248977022,
                    0.007357570034623858,
                    0.05309647466163046,
                    0.00598048473402581,
                    0.03342382751022977,
                    0.006373937677053824,
                    0.017685709789109223,
                    0.007357570034623858,
                    0.21496301542335533,
                    0.00769200503619767,
                    0.04522741580107019,
                    0.1421938936103242,
                    0.012767548001259047,
                    0.00794774944916588,
                    0.017685709789109223,
                    0.00794774944916588,
                    0.007652659741894869,
                    0.1691650928548945,
                    0.010505193578847967,
                    0.012767548001259047,
                    0.006373937677053824,
                    0.017685709789109223,
                    0.04221750078690588,
                    0.15633852691218128,
                    0.007416587976078061,
                    0.018669342146679258,
                    0.05386370790053509,
                    0.012767548001259047,
                    0.006964117091595844,
                    0.04326015108593012,
                    0.043751967264715134,
                    0.012767548001259047,
                    0.01626927919420837,
                    0.020538243626062318,
                    0.022603871576959395,
                    0.012767548001259047,
                    0.006118193264085615,
                    0.006314919735599622,
                    0.1691650928548945,
                    0.007416587976078061,
                    0.020636606861819326,
                    0.09549102927289894,
                    0.04326015108593012,
                    0.006373937677053824,
                    0.012688857412653446,
                    0.044342146679257156,
                    0.02378423040604344,
                    0.03186968838526912,
                    0.022112055398174374,
                    0.14791863393138177,
                    0.16227966635190427,
                    1,
                    0.04326015108593012,
                    0.007357570034623858,
                    0.05386370790053509,
                    0.14880390305319482,
                    0.020538243626062318,
                    0.007357570034623858,
                    0.012767548001259047,
                    0.07019200503619766,
                    0.007416587976078061,
                    0.2940077116776833,
                    0.25893138180673586,
                    0.05309647466163046,
                    0.020538243626062318,
                    0.03047293043751967,
                    0.05053903053194837,
                    0.007357570034623858,
                    0.14547922568460808,
                    0.007357570034623858,
                    0.020538243626062318,
                    0.049398016997167137,
                    0.03194837897387472,
                    0.007357570034623858,
                    0.0075542965061378645,
                    0.010800283286118978,
                    0.00794774944916588,
                    0.04326015108593012,
                    0.009147780925401321,
                    0.010800283286118978,
                    0.007652659741894869,
                    0.017685709789109223,
                    0.007357570034623858,
                    0.14723009128108275,
                    0.1712897387472458,
                    0.017449638023292413,
                    0.009521561221277933,
                    0.007652659741894869,
                    0.046643846395971036,
                    0.006334592382751024,
                    0.29025023607176575,
                    0.05211284230406043,
                    0.4790486307837582,
                    0.007357570034623858,
                    0.03785017311929493,
                    0.020538243626062318,
                    0.016406987724268178,
                    0.00794774944916588,
                    0.29025023607176575,
                    0.21024158010701915,
                    0.20634639597104182,
                    0.039325621655649984,
                    0.10410764872521246,
                    0.15570900220333644,
                    0.5082821844507397,
                    0.04326015108593012,
                    0.007652659741894869,
                    0.043751967264715134,
                    0.0075542965061378645,
                    0.04326015108593012,
                    0.019652974504249292,
                    0.31645420207743147,
                    0.25670837267862756,
                    0.006373937677053824,
                    0.007652659741894869,
                    0.016406987724268178,
                    0.049161945231350326,
                    0.1289345294302801,
                    0.25893138180673586,
                    0.004387000314762355,
                    0.017685709789109223,
                    0.03247954044696254,
                    0.10617327667610951,
                    0.03785017311929493,
                    0.04817831287378029,
                    0.2940077116776833,
                    0.027522033364809566,
                    0.2550361976707585,
                    0.007652659741894869,
                    0.12313109852061692,
                    0.25670837267862756,
                    0.00794774944916588,
                    0.06194916587976078,
                    0.04326015108593012,
                    0.5095018885741265,
                    0.017685709789109223,
                    0.017685709789109223,
                    0.017685709789109223,
                    0.017685709789109223,
                    0.017685709789109223,
                    0.02378423040604344,
                    0.02339077746301542,
                    0.009147780925401321,
                    0.01024944916587976,
                    0.06096553352219074,
                    0.006334592382751024,
                    0.027128580421781553,
                    0.006314919735599622,
                    0.010800283286118978,
                    0.10031082782499212,
                    0.017685709789109223,
                    0.007613314447592067,
                    0.007613314447592067,
                    0.04699795404469625,
                    0.046643846395971036,
                    0.020538243626062318,
                    0.00598048473402581,
                    0.022603871576959395,
                    0.006373937677053824,
                    0.1401479383065785,
                    0.006334592382751024,
                    0.007357570034623858,
                    0.1284427132514951,
                    0.10117642429965375,
                    0.004898489140698773,
                    0.00794774944916588,
                    0.25893138180673586,
                    0.033581208687440973,
                    0.15376141013534778,
                    0.006373937677053824,
                    0.4081877557444129,
                    0,
                    0.007416587976078061,
                    0.43970333648095683,
                    0.023076015108593008,
                    0.00769200503619767,
                    0.09440903367957192,
                    0.007652659741894869,
                    0.13670522505508337,
                    0.08437598363235756,
                    0.017685709789109223,
                    0.007318224740321058,
                    0.015718445073969155,
                    0.2281830343090966,
                    0.0074559332703808615,
                    0.00769200503619767,
                    0.21496301542335533,
                    0.024964589235127475,
                    0.0074559332703808615,
                    0.0075542965061378645,
                    0.04326015108593012,
                    0.012767548001259047,
                    0.0169971671388102,
                    0.00769200503619767,
                    0.00794774944916588,
                    0.0114298079949638,
                    0.023292414227258418,
                    0.009147780925401321,
                    0.03342382751022977,
                    0.007357570034623858,
                    0.02899748190116462,
                    0.007416587976078061,
                    0.04221750078690588,
                    0.007652659741894869,
                    0.005606704438149198,
                    0.1691650928548945,
                    0.020538243626062318,
                    0.00769200503619767,
                    0.00794774944916588,
                    0.05604737173434057,
                    0.017685709789109223,
                    0.017685709789109223,
                    0.03962071136292099,
                    0.007652659741894869,
                    0.007318224740321058,
                    0.007613314447592067,
                    0.020439880390305316,
                    0.03186968838526912,
                    0.006373937677053824,
                    0.04326015108593012,
                    0.04326015108593012,
                    0.007357570034623858,
                    0.00794774944916588,
                    0.044342146679257156,
                    0.02378423040604344,
                    0.04326015108593012,
                    0.006118193264085615,
                    0.10208136606861817,
                    0.2281830343090966,
                    0.05974582939880391,
                    0.02899748190116462,
                    0.5095018885741265,
                    0.012767548001259047,
                    0.043751967264715134,
                    0.010800283286118978,
                    0.007416587976078061,
                    0.017685709789109223,
                    0.008065785332074282,
                    0.15315155807365435,
                    0.03047293043751967,
                    0.044342146679257156,
                    0.030000786905886055,
                    0.05211284230406043,
                    0.04670286433742524,
                    0.0313975448536355,
                    0.04670286433742524,
                    0.16739455461126845,
                    0.00794774944916588,
                    0.007652659741894869,
                    0.044342146679257156,
                    0.0941336166194523,
                    0.012767548001259047,
                    0.007357570034623858,
                    0.044342146679257156,
                    0.00794774944916588,
                    0.06785096002518098,
                    0.017685709789109223,
                    0.00794774944916588,
                    0.00598048473402581,
                    0.020538243626062318,
                    0.044342146679257156,
                    0.007298552093169656,
                    0.030000786905886055,
                    0.006373937677053824,
                    0.009147780925401321,
                    0.04670286433742524,
                    0.019239848914069872,
                    0.011469153289266601,
                    0.09440903367957192,
                    0.03342382751022977,
                    0.00598048473402581,
                    0.006905099150141642,
                    0.01628895184135977,
                    0.08437598363235756,
                    0.020538243626062318,
                    0.00794774944916588,
                    0.010977337110481584,
                    0.1712897387472458,
                    0.04221750078690588,
                    0.1691650928548945,
                    0.05053903053194837,
                    0.00794774944916588,
                    0.02339077746301542,
                    0.0313975448536355,
                    0.006373937677053824,
                    0.05211284230406043,
                    0.08949087189172174,
                    0.00794774944916588,
                    0.020557916273213725,
                    0.1460890777463015,
                    0.021816965690903363,
                    0.29025023607176575,
                    0.0074559332703808615,
                    0.009147780925401321,
                    0.007357570034623858,
                    0.00712149826880705,
                    0.010977337110481584,
                    0.16227966635190427,
                    0.20634639597104182,
                    0.04326015108593012,
                    0.044342146679257156,
                    0.036414069877242675,
                    0.10326172489770222,
                    0.007357570034623858,
                    0.00794774944916588,
                    0.043830657853320736,
                    0.10896679257160842,
                    0.006865753855838841,
                    0.05903761410135348,
                    0.012767548001259047,
                    0.03962071136292099,
                    0.04326015108593012,
                    0.007652659741894869,
                    0.17605051935788477,
                    0.007652659741894869,
                    0.006314919735599622,
                    0.10617327667610951,
                    0.006334592382751024,
                    0.007357570034623858,
                    0.012767548001259047,
                    0.4284112370160528,
                    0.00769200503619767,
                    0.014734812716399115,
                    0.04326015108593012,
                    0.006334592382751024,
                    0.006334592382751024,
                    0.03609930752282026,
                    0.009147780925401321,
                    0.043751967264715134,
                    0.044342146679257156,
                    0.20146757947749444,
                    0.020636606861819326,
                    0.08949087189172174,
                    0.13178706326723322,
                    0.053647308781869685,
                    0.053647308781869685,
                    0.04326015108593012,
                    0.20146757947749444,
                    0.04326015108593012,
                    0.04326015108593012,
                    0.01937755744412968,
                    0.03247954044696254,
                    0.06440824677368585,
                    0.21024158010701915,
                    0.04326015108593012,
                    0.007514951211835064,
                    0.006314919735599622,
                    0.007416587976078061,
                    0.044342146679257156,
                    0.07001495121183506,
                    0.43970333648095683,
                    0.14880390305319482,
                    0.026341674535725522,
                    0.007357570034623858,
                    0.007652659741894869,
                    0.018669342146679258,
                    0.00794774944916588,
                    0.00794774944916588,
                    0.03962071136292099,
                    0.007652659741894869,
                    0.033581208687440973,
                    0.006334592382751024,
                    0.0075542965061378645,
                    0.012767548001259047,
                    0.09338605602769907,
                    0.044027384324834745,
                    0.007357570034623858,
                    0.00794774944916588,
                    0.020636606861819326,
                    0.017685709789109223,
                    0.10208136606861817,
                    0.020557916273213725,
                    0.00769200503619767,
                    0.051129209946490395,
                    0.21024158010701915,
                    0.04326015108593012,
                    0.07103792886370788,
                    0.009246144161158326,
                    0.14880390305319482,
                    0.02162023921938936,
                    0.14791863393138177,
                    0.00794774944916588,
                    0.00794774944916588,
                    0.006118193264085615,
                    0.1460890777463015,
                    0.006373937677053824,
                    0.007357570034623858,
                    0.04326015108593012,
                    0.03962071136292099,
                    0.0570310040919106,
                    0.020538243626062318,
                    0.006314919735599622,
                    0.10410764872521246,
                    0.04522741580107019,
                    0.007652659741894869,
                    0.07552329241422724,
                    0.00794774944916588,
                    0.044342146679257156,
                    0.022702234812716396,
                    0.007652659741894869,
                    0.05211284230406043,
                    0.07391013534781239,
                    0.2940077116776833,
                    0.053647308781869685,
                    0.00598048473402581,
                    0.022603871576959395,
                    0.007357570034623858,
                    0.00794774944916588,
                    0.11998347497639282,
                    0.020439880390305316,
                    0.02378423040604344,
                    0.06883459238275101,
                    0.012767548001259047,
                    0.020538243626062318,
                    0.09549102927289894,
                    0.023076015108593008,
                    0.0075542965061378645,
                    0.02378423040604344,
                    0.055693264085615354,
                    0.016406987724268178,
                    0.14547922568460808,
                    0.007652659741894869,
                    0.007318224740321058,
                    0.051129209946490395,
                    0.00598048473402581,
                    0.05211284230406043,
                    0.020538243626062318,
                    0.04699795404469625,
                    0.017685709789109223,
                    0.00769200503619767,
                    0.043751967264715134,
                    0.07019200503619766,
                    0.02378423040604344,
                    0.0075542965061378645,
                    0.1284427132514951,
                    0.04699795404469625,
                    0.10326172489770222,
                    0.030000786905886055,
                    0.1430594900849858,
                    0.007652659741894869,
                    0.06194916587976078,
                    0.006964117091595844,
                    0.006964117091595844,
                    0.007652659741894869,
                    0.03735835694050991,
                    0.008695310040919104,
                    0.007514951211835064,
                    0.00539030531948379,
                    0.13670522505508337,
                    0.007652659741894869,
                    0.022603871576959395,
                    0.017685709789109223,
                    0.21496301542335533,
                    0.2550361976707585,
                    0.006314919735599622,
                    0.04245357255272269,
                    0.006865753855838841,
                    0.00769200503619767,
                    0.13670522505508337,
                    0.017685709789109223,
                    0.007416587976078061,
                    0.00794774944916588,
                    0.09440903367957192,
                    0.06883459238275101,
                    0.09440903367957192,
                    0.012767548001259047,
                    0.017685709789109223,
                    0.020538243626062318,
                    0.007416587976078061,
                    0.00794774944916588,
                    0.011469153289266601,
                    0.08437598363235756,
                    1,
                    0.008124803273528486,
                    0.1430594900849858,
                    0.01024944916587976,
                    0.08437598363235756,
                    0.06883459238275101,
                    0.07391013534781239,
                    0.07019200503619766,
                    0.012118350645262824,
                    0.0074559332703808615,
                    0.4078729933899905,
                    0.10424535725527226,
                    0.01851196096946805,
                    0.10326172489770222,
                    0.006314919735599622,
                    0.044342146679257156,
                    0.018669342146679258,
                    0.00794774944916588,
                    0.007318224740321058,
                    0.21024158010701915,
                    0.007160843563109852,
                    0.43970333648095683,
                    0.043830657853320736,
                    0.020538243626062318,
                    0.007337897387472458,
                    0.0075542965061378645,
                    0.04326015108593012,
                    0.018669342146679258,
                    0.043830657853320736,
                    0.29025023607176575,
                    0.022112055398174374,
                    0.08949087189172174,
                    0.044342146679257156,
                    0.09440903367957192,
                    0.010760937991816178,
                    0.017685709789109223,
                    0.007160843563109852,
                    0.43970333648095683,
                    0.012767548001259047,
                    0.022603871576959395,
                    0.007416587976078061,
                    0.0570310040919106,
                    0.00598048473402581,
                    0.017685709789109223,
                    0.017685709789109223,
                    0.09657302486622599,
                    0.009147780925401321,
                    0.03342382751022977,
                    0.007337897387472458,
                    0.04326015108593012,
                    0.00769200503619767,
                    0.4078729933899905,
                    0.02907617248977022,
                    0.020538243626062318,
                    0.017685709789109223,
                    0.017685709789109223,
                    0.02378423040604344,
                    0.05974582939880391,
                    1,
                    0.007652659741894869,
                    0.007652659741894869,
                    0.051129209946490395,
                    0.14723009128108275,
                    0.5082821844507397,
                    0.02378423040604344,
                    0.00769200503619767,
                    0.13178706326723322,
                    0.03194837897387472,
                    0.017685709789109223,
                    0.09657302486622599,
                    0.007357570034623858,
                    0.03735835694050991,
                    0.01666273213723639,
                    0.010800283286118978,
                    0.007652659741894869,
                    0.11998347497639282,
                    0.020636606861819326,
                    0.0074559332703808615,
                    0.014734812716399115,
                    0.00794774944916588,
                    0.16227966635190427,
                    0.020636606861819326,
                    0.006118193264085615,
                    0.006334592382751024,
                    0.2281830343090966,
                    0.007416587976078061,
                    0.14547922568460808,
                    0.07001495121183506,
                    0.007357570034623858,
                    0.03962071136292099,
                    0.008557601510859299,
                    0.010800283286118978,
                    0.0075542965061378645,
                    0.012767548001259047,
                    0.006314919735599622,
                    0.03735835694050991,
                    0.007357570034623858,
                    0.007357570034623858,
                    0.01666273213723639,
                    0.007337897387472458,
                    0.4078729933899905,
                    0.006334592382751024,
                    0.10424535725527226,
                    0.051129209946490395,
                    0.03824362606232294,
                    0.00598048473402581,
                    0.006373937677053824,
                    0.006865753855838841,
                    0.049398016997167137,
                    0.03259757632987094,
                    0.14791863393138177,
                    0.007357570034623858,
                    0.04326015108593012,
                    0.1289345294302801,
                    0.05250629524708844,
                    0.007652659741894869,
                    0.017685709789109223,
                    0.04312244255587031,
                    0.009187126219704122,
                    0.006334592382751024,
                    0.03962071136292099,
                    0.017685709789109223,
                    0.043751967264715134,
                    0.2281830343090966,
                    0.00887236386528171,
                    0.0058427762039660065,
                    0.007416587976078061,
                    0.020538243626062318,
                    0.007416587976078061,
                    0.017685709789109223,
                    0.09657302486622599,
                    0.007632987094743467,
                    0.03962071136292099,
                    0.012767548001259047,
                    0.053647308781869685,
                    0.00794774944916588,
                    0.020538243626062318,
                    0.00769200503619767,
                    0.06490006295247087,
                    0.00480012590494177,
                    0.04699795404469625,
                    0.17605051935788477,
                    0.009147780925401321,
                    0.020538243626062318,
                    0.01666273213723639,
                    0.07019200503619766,
                    0.005783758262511804,
                    0.10326172489770222,
                    0.06490006295247087,
                    0.007357570034623858,
                    0.14949244570349382,
                    0.020538243626062318,
                    0.02899748190116462,
                    0.006334592382751024,
                    0.0075542965061378645,
                    0.008439565627950897,
                    0.15570900220333644,
                    0.009147780925401321,
                    0.00794774944916588,
                    0.10326172489770222,
                    0.05053903053194837,
                    0.00769200503619767,
                    0.012767548001259047,
                    0.05309647466163046,
                    0.004780453257790369,
                    0.009147780925401321,
                    0.006964117091595844,
                    0.1289345294302801,
                    0.007652659741894869,
                    0.0570310040919106,
                    0.16739455461126845,
                    0.053647308781869685,
                    0.007416587976078061,
                    0.022112055398174374,
                    0.06962149826880704,
                    0.04326015108593012,
                    0.010505193578847967,
                    0.31645420207743147,
                    0.044342146679257156,
                    0.030000786905886055,
                    0.006334592382751024,
                    0.019869373622914695,
                    0.014734812716399115,
                    0.04312244255587031,
                    0.1289345294302801,
                    0.017685709789109223,
                    0.017685709789109223,
                    0.01937755744412968,
                    0.0914581366068618,
                    0.010800283286118978,
                    0.014006924771797291,
                    0.007652659741894869,
                    0.09549102927289894,
                    0.0019475920679886682,
                    0.009816650928548944,
                    0.039325621655649984,
                    0.006314919735599622,
                    0.011488825936418002,
                    0.007652659741894869,
                    0.007652659741894869,
                    0.15570900220333644,
                    0.04326015108593012,
                    0.007652659741894869,
                    0.012806893295561847,
                    0.012767548001259047,
                    0.00598048473402581,
                    0.049398016997167137,
                    0.017685709789109223,
                    0.051129209946490395,
                    0.03824362606232294,
                    0.051129209946490395,
                    0.007357570034623858
                  ],
                  "xaxis": "x",
                  "y": [
                    0,
                    1,
                    2,
                    3,
                    4,
                    5,
                    6,
                    7,
                    8,
                    9,
                    10,
                    11,
                    12,
                    13,
                    14,
                    15,
                    16,
                    17,
                    18,
                    19,
                    20,
                    21,
                    22,
                    23,
                    24,
                    25,
                    26,
                    27,
                    28,
                    29,
                    30,
                    31,
                    32,
                    33,
                    34,
                    35,
                    36,
                    37,
                    38,
                    39,
                    40,
                    41,
                    42,
                    43,
                    44,
                    45,
                    46,
                    47,
                    48,
                    49,
                    50,
                    51,
                    52,
                    53,
                    54,
                    55,
                    56,
                    57,
                    58,
                    59,
                    60,
                    61,
                    62,
                    63,
                    64,
                    65,
                    66,
                    67,
                    68,
                    69,
                    70,
                    71,
                    72,
                    73,
                    74,
                    75,
                    76,
                    77,
                    78,
                    79,
                    80,
                    81,
                    82,
                    83,
                    84,
                    85,
                    86,
                    87,
                    88,
                    89,
                    90,
                    91,
                    92,
                    93,
                    94,
                    95,
                    96,
                    97,
                    98,
                    99,
                    100,
                    101,
                    102,
                    103,
                    104,
                    105,
                    106,
                    107,
                    108,
                    109,
                    110,
                    111,
                    112,
                    113,
                    114,
                    115,
                    116,
                    117,
                    118,
                    119,
                    120,
                    121,
                    122,
                    123,
                    124,
                    125,
                    126,
                    127,
                    128,
                    129,
                    130,
                    131,
                    132,
                    133,
                    134,
                    135,
                    136,
                    137,
                    138,
                    139,
                    140,
                    141,
                    142,
                    143,
                    144,
                    145,
                    146,
                    147,
                    148,
                    149,
                    150,
                    151,
                    152,
                    153,
                    154,
                    155,
                    156,
                    157,
                    158,
                    159,
                    160,
                    161,
                    162,
                    163,
                    164,
                    165,
                    166,
                    167,
                    168,
                    169,
                    170,
                    171,
                    172,
                    173,
                    174,
                    175,
                    176,
                    177,
                    178,
                    179,
                    180,
                    181,
                    182,
                    183,
                    184,
                    185,
                    186,
                    187,
                    188,
                    189,
                    190,
                    191,
                    192,
                    193,
                    194,
                    195,
                    196,
                    197,
                    198,
                    199,
                    200,
                    201,
                    202,
                    203,
                    204,
                    205,
                    206,
                    207,
                    208,
                    209,
                    210,
                    211,
                    212,
                    213,
                    214,
                    215,
                    216,
                    217,
                    218,
                    219,
                    220,
                    221,
                    222,
                    223,
                    224,
                    225,
                    226,
                    227,
                    228,
                    229,
                    230,
                    231,
                    232,
                    233,
                    234,
                    235,
                    236,
                    237,
                    238,
                    239,
                    240,
                    241,
                    242,
                    243,
                    244,
                    245,
                    246,
                    247,
                    248,
                    249,
                    250,
                    251,
                    252,
                    253,
                    254,
                    255,
                    256,
                    257,
                    258,
                    259,
                    260,
                    261,
                    262,
                    263,
                    264,
                    265,
                    266,
                    267,
                    268,
                    269,
                    270,
                    271,
                    272,
                    273,
                    274,
                    275,
                    276,
                    277,
                    278,
                    279,
                    280,
                    281,
                    282,
                    283,
                    284,
                    285,
                    286,
                    287,
                    288,
                    289,
                    290,
                    291,
                    292,
                    293,
                    294,
                    295,
                    296,
                    297,
                    298,
                    299,
                    300,
                    301,
                    302,
                    303,
                    304,
                    305,
                    306,
                    307,
                    308,
                    309,
                    310,
                    311,
                    312,
                    313,
                    314,
                    315,
                    316,
                    317,
                    318,
                    319,
                    320,
                    321,
                    322,
                    323,
                    324,
                    325,
                    326,
                    327,
                    328,
                    329,
                    330,
                    331,
                    332,
                    333,
                    334,
                    335,
                    336,
                    337,
                    338,
                    339,
                    340,
                    341,
                    342,
                    343,
                    344,
                    345,
                    346,
                    347,
                    348,
                    349,
                    350,
                    351,
                    352,
                    353,
                    354,
                    355,
                    356,
                    357,
                    358,
                    359,
                    360,
                    361,
                    362,
                    363,
                    364,
                    365,
                    366,
                    367,
                    368,
                    369,
                    370,
                    371,
                    372,
                    373,
                    374,
                    375,
                    376,
                    377,
                    378,
                    379,
                    380,
                    381,
                    382,
                    383,
                    384,
                    385,
                    386,
                    387,
                    388,
                    389,
                    390,
                    391,
                    392,
                    393,
                    394,
                    395,
                    396,
                    397,
                    398,
                    399,
                    400,
                    401,
                    402,
                    403,
                    404,
                    405,
                    406,
                    407,
                    408,
                    409,
                    410,
                    411,
                    412,
                    413,
                    414,
                    415,
                    416,
                    417,
                    418,
                    419,
                    420,
                    421,
                    422,
                    423,
                    424,
                    425,
                    426,
                    427,
                    428,
                    429,
                    430,
                    431,
                    432,
                    433,
                    434,
                    435,
                    436,
                    437,
                    438,
                    439,
                    440,
                    441,
                    442,
                    443,
                    444,
                    445,
                    446,
                    447,
                    448,
                    449,
                    450,
                    451,
                    452,
                    453,
                    454,
                    455,
                    456,
                    457,
                    458,
                    459,
                    460,
                    461,
                    462,
                    463,
                    464,
                    465,
                    466,
                    467,
                    468,
                    469,
                    470,
                    471,
                    472,
                    473,
                    474,
                    475,
                    476,
                    477,
                    478,
                    479,
                    480,
                    481,
                    482,
                    483,
                    484,
                    485,
                    486,
                    487,
                    488,
                    489,
                    490,
                    491,
                    492,
                    493,
                    494,
                    495,
                    496,
                    497,
                    498,
                    499,
                    500,
                    501,
                    502,
                    503,
                    504,
                    505,
                    506,
                    507,
                    508,
                    509,
                    510,
                    511,
                    512,
                    513,
                    514,
                    515,
                    516,
                    517,
                    518,
                    519,
                    520,
                    521,
                    522,
                    523,
                    524,
                    525,
                    526,
                    527,
                    528,
                    529,
                    530,
                    531,
                    532,
                    533,
                    534,
                    535,
                    536,
                    537,
                    538,
                    539,
                    540,
                    541,
                    542,
                    543,
                    544,
                    545,
                    546,
                    547,
                    548,
                    549,
                    550,
                    551,
                    552,
                    553,
                    554,
                    555,
                    556,
                    557,
                    558,
                    559,
                    560,
                    561,
                    562,
                    563,
                    564,
                    565,
                    566,
                    567,
                    568,
                    569,
                    570,
                    571,
                    572,
                    573,
                    574,
                    575,
                    576,
                    577,
                    578,
                    579,
                    580,
                    581,
                    582,
                    583,
                    584,
                    585,
                    586,
                    587,
                    588,
                    589,
                    590,
                    591,
                    592,
                    593,
                    594,
                    595,
                    596,
                    597,
                    598,
                    599,
                    600,
                    601,
                    602,
                    603,
                    604,
                    605,
                    606,
                    607,
                    608,
                    609,
                    610,
                    611,
                    612,
                    613,
                    614,
                    615,
                    616,
                    617,
                    618,
                    619,
                    620,
                    621,
                    622,
                    623,
                    624,
                    625,
                    626,
                    627,
                    628,
                    629,
                    630,
                    631,
                    632,
                    633,
                    634,
                    635,
                    636,
                    637,
                    638,
                    639,
                    640,
                    641,
                    642,
                    643,
                    644,
                    645,
                    646,
                    647,
                    648,
                    649,
                    650,
                    651,
                    652,
                    653,
                    654,
                    655,
                    656,
                    657,
                    658,
                    659,
                    660,
                    661,
                    662,
                    663,
                    664,
                    665,
                    666,
                    667,
                    668,
                    669,
                    670,
                    671,
                    672,
                    673,
                    674,
                    675,
                    676,
                    677,
                    678,
                    679,
                    680,
                    681,
                    682,
                    683,
                    684,
                    685,
                    686,
                    687,
                    688,
                    689,
                    690,
                    691,
                    692,
                    693,
                    694,
                    695,
                    696,
                    697,
                    698,
                    699,
                    700,
                    701,
                    702,
                    703,
                    704,
                    705,
                    706,
                    707,
                    708,
                    709,
                    710,
                    711,
                    712,
                    713,
                    714,
                    715,
                    716,
                    717,
                    718,
                    719,
                    720,
                    721,
                    722,
                    723,
                    724,
                    725,
                    726,
                    727,
                    728,
                    729,
                    730,
                    731,
                    732,
                    733,
                    734,
                    735,
                    736,
                    737,
                    738,
                    739,
                    740,
                    741,
                    742,
                    743,
                    744,
                    745,
                    746,
                    747,
                    748,
                    749,
                    750,
                    751,
                    752,
                    753,
                    754,
                    755,
                    756,
                    757,
                    758,
                    759,
                    760,
                    761,
                    762,
                    763,
                    764,
                    765,
                    766,
                    767,
                    768,
                    769,
                    770,
                    771,
                    772,
                    773,
                    774,
                    775,
                    776,
                    777,
                    778,
                    779,
                    780,
                    781,
                    782,
                    783,
                    784,
                    785,
                    786,
                    787,
                    788,
                    789,
                    790,
                    791,
                    792,
                    793,
                    794,
                    795,
                    796,
                    797,
                    798,
                    799,
                    800,
                    801,
                    802,
                    803,
                    804,
                    805,
                    806,
                    807,
                    808,
                    809,
                    810,
                    811,
                    812,
                    813,
                    814,
                    815,
                    816,
                    817,
                    818,
                    819,
                    820,
                    821,
                    822,
                    823,
                    824,
                    825,
                    826,
                    827,
                    828,
                    829,
                    830,
                    831,
                    832,
                    833,
                    834,
                    835,
                    836,
                    837,
                    838,
                    839,
                    840,
                    841,
                    842,
                    843,
                    844,
                    845,
                    846,
                    847,
                    848,
                    849,
                    850,
                    851,
                    852,
                    853,
                    854,
                    855,
                    856,
                    857,
                    858,
                    859,
                    860,
                    861,
                    862,
                    863,
                    864,
                    865,
                    866,
                    867,
                    868,
                    869,
                    870,
                    871,
                    872,
                    873,
                    874,
                    875,
                    876,
                    877,
                    878,
                    879,
                    880,
                    881,
                    882,
                    883,
                    884,
                    885,
                    886,
                    887,
                    888,
                    889,
                    890
                  ],
                  "yaxis": "y"
                }
              ],
              "layout": {
                "legend": {
                  "tracegroupgap": 0
                },
                "margin": {
                  "t": 60
                },
                "template": {
                  "data": {
                    "bar": [
                      {
                        "error_x": {
                          "color": "#2a3f5f"
                        },
                        "error_y": {
                          "color": "#2a3f5f"
                        },
                        "marker": {
                          "line": {
                            "color": "#E5ECF6",
                            "width": 0.5
                          },
                          "pattern": {
                            "fillmode": "overlay",
                            "size": 10,
                            "solidity": 0.2
                          }
                        },
                        "type": "bar"
                      }
                    ],
                    "barpolar": [
                      {
                        "marker": {
                          "line": {
                            "color": "#E5ECF6",
                            "width": 0.5
                          },
                          "pattern": {
                            "fillmode": "overlay",
                            "size": 10,
                            "solidity": 0.2
                          }
                        },
                        "type": "barpolar"
                      }
                    ],
                    "carpet": [
                      {
                        "aaxis": {
                          "endlinecolor": "#2a3f5f",
                          "gridcolor": "white",
                          "linecolor": "white",
                          "minorgridcolor": "white",
                          "startlinecolor": "#2a3f5f"
                        },
                        "baxis": {
                          "endlinecolor": "#2a3f5f",
                          "gridcolor": "white",
                          "linecolor": "white",
                          "minorgridcolor": "white",
                          "startlinecolor": "#2a3f5f"
                        },
                        "type": "carpet"
                      }
                    ],
                    "choropleth": [
                      {
                        "colorbar": {
                          "outlinewidth": 0,
                          "ticks": ""
                        },
                        "type": "choropleth"
                      }
                    ],
                    "contour": [
                      {
                        "colorbar": {
                          "outlinewidth": 0,
                          "ticks": ""
                        },
                        "colorscale": [
                          [
                            0,
                            "#0d0887"
                          ],
                          [
                            0.1111111111111111,
                            "#46039f"
                          ],
                          [
                            0.2222222222222222,
                            "#7201a8"
                          ],
                          [
                            0.3333333333333333,
                            "#9c179e"
                          ],
                          [
                            0.4444444444444444,
                            "#bd3786"
                          ],
                          [
                            0.5555555555555556,
                            "#d8576b"
                          ],
                          [
                            0.6666666666666666,
                            "#ed7953"
                          ],
                          [
                            0.7777777777777778,
                            "#fb9f3a"
                          ],
                          [
                            0.8888888888888888,
                            "#fdca26"
                          ],
                          [
                            1,
                            "#f0f921"
                          ]
                        ],
                        "type": "contour"
                      }
                    ],
                    "contourcarpet": [
                      {
                        "colorbar": {
                          "outlinewidth": 0,
                          "ticks": ""
                        },
                        "type": "contourcarpet"
                      }
                    ],
                    "heatmap": [
                      {
                        "colorbar": {
                          "outlinewidth": 0,
                          "ticks": ""
                        },
                        "colorscale": [
                          [
                            0,
                            "#0d0887"
                          ],
                          [
                            0.1111111111111111,
                            "#46039f"
                          ],
                          [
                            0.2222222222222222,
                            "#7201a8"
                          ],
                          [
                            0.3333333333333333,
                            "#9c179e"
                          ],
                          [
                            0.4444444444444444,
                            "#bd3786"
                          ],
                          [
                            0.5555555555555556,
                            "#d8576b"
                          ],
                          [
                            0.6666666666666666,
                            "#ed7953"
                          ],
                          [
                            0.7777777777777778,
                            "#fb9f3a"
                          ],
                          [
                            0.8888888888888888,
                            "#fdca26"
                          ],
                          [
                            1,
                            "#f0f921"
                          ]
                        ],
                        "type": "heatmap"
                      }
                    ],
                    "heatmapgl": [
                      {
                        "colorbar": {
                          "outlinewidth": 0,
                          "ticks": ""
                        },
                        "colorscale": [
                          [
                            0,
                            "#0d0887"
                          ],
                          [
                            0.1111111111111111,
                            "#46039f"
                          ],
                          [
                            0.2222222222222222,
                            "#7201a8"
                          ],
                          [
                            0.3333333333333333,
                            "#9c179e"
                          ],
                          [
                            0.4444444444444444,
                            "#bd3786"
                          ],
                          [
                            0.5555555555555556,
                            "#d8576b"
                          ],
                          [
                            0.6666666666666666,
                            "#ed7953"
                          ],
                          [
                            0.7777777777777778,
                            "#fb9f3a"
                          ],
                          [
                            0.8888888888888888,
                            "#fdca26"
                          ],
                          [
                            1,
                            "#f0f921"
                          ]
                        ],
                        "type": "heatmapgl"
                      }
                    ],
                    "histogram": [
                      {
                        "marker": {
                          "pattern": {
                            "fillmode": "overlay",
                            "size": 10,
                            "solidity": 0.2
                          }
                        },
                        "type": "histogram"
                      }
                    ],
                    "histogram2d": [
                      {
                        "colorbar": {
                          "outlinewidth": 0,
                          "ticks": ""
                        },
                        "colorscale": [
                          [
                            0,
                            "#0d0887"
                          ],
                          [
                            0.1111111111111111,
                            "#46039f"
                          ],
                          [
                            0.2222222222222222,
                            "#7201a8"
                          ],
                          [
                            0.3333333333333333,
                            "#9c179e"
                          ],
                          [
                            0.4444444444444444,
                            "#bd3786"
                          ],
                          [
                            0.5555555555555556,
                            "#d8576b"
                          ],
                          [
                            0.6666666666666666,
                            "#ed7953"
                          ],
                          [
                            0.7777777777777778,
                            "#fb9f3a"
                          ],
                          [
                            0.8888888888888888,
                            "#fdca26"
                          ],
                          [
                            1,
                            "#f0f921"
                          ]
                        ],
                        "type": "histogram2d"
                      }
                    ],
                    "histogram2dcontour": [
                      {
                        "colorbar": {
                          "outlinewidth": 0,
                          "ticks": ""
                        },
                        "colorscale": [
                          [
                            0,
                            "#0d0887"
                          ],
                          [
                            0.1111111111111111,
                            "#46039f"
                          ],
                          [
                            0.2222222222222222,
                            "#7201a8"
                          ],
                          [
                            0.3333333333333333,
                            "#9c179e"
                          ],
                          [
                            0.4444444444444444,
                            "#bd3786"
                          ],
                          [
                            0.5555555555555556,
                            "#d8576b"
                          ],
                          [
                            0.6666666666666666,
                            "#ed7953"
                          ],
                          [
                            0.7777777777777778,
                            "#fb9f3a"
                          ],
                          [
                            0.8888888888888888,
                            "#fdca26"
                          ],
                          [
                            1,
                            "#f0f921"
                          ]
                        ],
                        "type": "histogram2dcontour"
                      }
                    ],
                    "mesh3d": [
                      {
                        "colorbar": {
                          "outlinewidth": 0,
                          "ticks": ""
                        },
                        "type": "mesh3d"
                      }
                    ],
                    "parcoords": [
                      {
                        "line": {
                          "colorbar": {
                            "outlinewidth": 0,
                            "ticks": ""
                          }
                        },
                        "type": "parcoords"
                      }
                    ],
                    "pie": [
                      {
                        "automargin": true,
                        "type": "pie"
                      }
                    ],
                    "scatter": [
                      {
                        "fillpattern": {
                          "fillmode": "overlay",
                          "size": 10,
                          "solidity": 0.2
                        },
                        "type": "scatter"
                      }
                    ],
                    "scatter3d": [
                      {
                        "line": {
                          "colorbar": {
                            "outlinewidth": 0,
                            "ticks": ""
                          }
                        },
                        "marker": {
                          "colorbar": {
                            "outlinewidth": 0,
                            "ticks": ""
                          }
                        },
                        "type": "scatter3d"
                      }
                    ],
                    "scattercarpet": [
                      {
                        "marker": {
                          "colorbar": {
                            "outlinewidth": 0,
                            "ticks": ""
                          }
                        },
                        "type": "scattercarpet"
                      }
                    ],
                    "scattergeo": [
                      {
                        "marker": {
                          "colorbar": {
                            "outlinewidth": 0,
                            "ticks": ""
                          }
                        },
                        "type": "scattergeo"
                      }
                    ],
                    "scattergl": [
                      {
                        "marker": {
                          "colorbar": {
                            "outlinewidth": 0,
                            "ticks": ""
                          }
                        },
                        "type": "scattergl"
                      }
                    ],
                    "scattermapbox": [
                      {
                        "marker": {
                          "colorbar": {
                            "outlinewidth": 0,
                            "ticks": ""
                          }
                        },
                        "type": "scattermapbox"
                      }
                    ],
                    "scatterpolar": [
                      {
                        "marker": {
                          "colorbar": {
                            "outlinewidth": 0,
                            "ticks": ""
                          }
                        },
                        "type": "scatterpolar"
                      }
                    ],
                    "scatterpolargl": [
                      {
                        "marker": {
                          "colorbar": {
                            "outlinewidth": 0,
                            "ticks": ""
                          }
                        },
                        "type": "scatterpolargl"
                      }
                    ],
                    "scatterternary": [
                      {
                        "marker": {
                          "colorbar": {
                            "outlinewidth": 0,
                            "ticks": ""
                          }
                        },
                        "type": "scatterternary"
                      }
                    ],
                    "surface": [
                      {
                        "colorbar": {
                          "outlinewidth": 0,
                          "ticks": ""
                        },
                        "colorscale": [
                          [
                            0,
                            "#0d0887"
                          ],
                          [
                            0.1111111111111111,
                            "#46039f"
                          ],
                          [
                            0.2222222222222222,
                            "#7201a8"
                          ],
                          [
                            0.3333333333333333,
                            "#9c179e"
                          ],
                          [
                            0.4444444444444444,
                            "#bd3786"
                          ],
                          [
                            0.5555555555555556,
                            "#d8576b"
                          ],
                          [
                            0.6666666666666666,
                            "#ed7953"
                          ],
                          [
                            0.7777777777777778,
                            "#fb9f3a"
                          ],
                          [
                            0.8888888888888888,
                            "#fdca26"
                          ],
                          [
                            1,
                            "#f0f921"
                          ]
                        ],
                        "type": "surface"
                      }
                    ],
                    "table": [
                      {
                        "cells": {
                          "fill": {
                            "color": "#EBF0F8"
                          },
                          "line": {
                            "color": "white"
                          }
                        },
                        "header": {
                          "fill": {
                            "color": "#C8D4E3"
                          },
                          "line": {
                            "color": "white"
                          }
                        },
                        "type": "table"
                      }
                    ]
                  },
                  "layout": {
                    "annotationdefaults": {
                      "arrowcolor": "#2a3f5f",
                      "arrowhead": 0,
                      "arrowwidth": 1
                    },
                    "autotypenumbers": "strict",
                    "coloraxis": {
                      "colorbar": {
                        "outlinewidth": 0,
                        "ticks": ""
                      }
                    },
                    "colorscale": {
                      "diverging": [
                        [
                          0,
                          "#8e0152"
                        ],
                        [
                          0.1,
                          "#c51b7d"
                        ],
                        [
                          0.2,
                          "#de77ae"
                        ],
                        [
                          0.3,
                          "#f1b6da"
                        ],
                        [
                          0.4,
                          "#fde0ef"
                        ],
                        [
                          0.5,
                          "#f7f7f7"
                        ],
                        [
                          0.6,
                          "#e6f5d0"
                        ],
                        [
                          0.7,
                          "#b8e186"
                        ],
                        [
                          0.8,
                          "#7fbc41"
                        ],
                        [
                          0.9,
                          "#4d9221"
                        ],
                        [
                          1,
                          "#276419"
                        ]
                      ],
                      "sequential": [
                        [
                          0,
                          "#0d0887"
                        ],
                        [
                          0.1111111111111111,
                          "#46039f"
                        ],
                        [
                          0.2222222222222222,
                          "#7201a8"
                        ],
                        [
                          0.3333333333333333,
                          "#9c179e"
                        ],
                        [
                          0.4444444444444444,
                          "#bd3786"
                        ],
                        [
                          0.5555555555555556,
                          "#d8576b"
                        ],
                        [
                          0.6666666666666666,
                          "#ed7953"
                        ],
                        [
                          0.7777777777777778,
                          "#fb9f3a"
                        ],
                        [
                          0.8888888888888888,
                          "#fdca26"
                        ],
                        [
                          1,
                          "#f0f921"
                        ]
                      ],
                      "sequentialminus": [
                        [
                          0,
                          "#0d0887"
                        ],
                        [
                          0.1111111111111111,
                          "#46039f"
                        ],
                        [
                          0.2222222222222222,
                          "#7201a8"
                        ],
                        [
                          0.3333333333333333,
                          "#9c179e"
                        ],
                        [
                          0.4444444444444444,
                          "#bd3786"
                        ],
                        [
                          0.5555555555555556,
                          "#d8576b"
                        ],
                        [
                          0.6666666666666666,
                          "#ed7953"
                        ],
                        [
                          0.7777777777777778,
                          "#fb9f3a"
                        ],
                        [
                          0.8888888888888888,
                          "#fdca26"
                        ],
                        [
                          1,
                          "#f0f921"
                        ]
                      ]
                    },
                    "colorway": [
                      "#636efa",
                      "#EF553B",
                      "#00cc96",
                      "#ab63fa",
                      "#FFA15A",
                      "#19d3f3",
                      "#FF6692",
                      "#B6E880",
                      "#FF97FF",
                      "#FECB52"
                    ],
                    "font": {
                      "color": "#2a3f5f"
                    },
                    "geo": {
                      "bgcolor": "white",
                      "lakecolor": "white",
                      "landcolor": "#E5ECF6",
                      "showlakes": true,
                      "showland": true,
                      "subunitcolor": "white"
                    },
                    "hoverlabel": {
                      "align": "left"
                    },
                    "hovermode": "closest",
                    "mapbox": {
                      "style": "light"
                    },
                    "paper_bgcolor": "white",
                    "plot_bgcolor": "#E5ECF6",
                    "polar": {
                      "angularaxis": {
                        "gridcolor": "white",
                        "linecolor": "white",
                        "ticks": ""
                      },
                      "bgcolor": "#E5ECF6",
                      "radialaxis": {
                        "gridcolor": "white",
                        "linecolor": "white",
                        "ticks": ""
                      }
                    },
                    "scene": {
                      "xaxis": {
                        "backgroundcolor": "#E5ECF6",
                        "gridcolor": "white",
                        "gridwidth": 2,
                        "linecolor": "white",
                        "showbackground": true,
                        "ticks": "",
                        "zerolinecolor": "white"
                      },
                      "yaxis": {
                        "backgroundcolor": "#E5ECF6",
                        "gridcolor": "white",
                        "gridwidth": 2,
                        "linecolor": "white",
                        "showbackground": true,
                        "ticks": "",
                        "zerolinecolor": "white"
                      },
                      "zaxis": {
                        "backgroundcolor": "#E5ECF6",
                        "gridcolor": "white",
                        "gridwidth": 2,
                        "linecolor": "white",
                        "showbackground": true,
                        "ticks": "",
                        "zerolinecolor": "white"
                      }
                    },
                    "shapedefaults": {
                      "line": {
                        "color": "#2a3f5f"
                      }
                    },
                    "ternary": {
                      "aaxis": {
                        "gridcolor": "white",
                        "linecolor": "white",
                        "ticks": ""
                      },
                      "baxis": {
                        "gridcolor": "white",
                        "linecolor": "white",
                        "ticks": ""
                      },
                      "bgcolor": "#E5ECF6",
                      "caxis": {
                        "gridcolor": "white",
                        "linecolor": "white",
                        "ticks": ""
                      }
                    },
                    "title": {
                      "x": 0.05
                    },
                    "xaxis": {
                      "automargin": true,
                      "gridcolor": "white",
                      "linecolor": "white",
                      "ticks": "",
                      "title": {
                        "standoff": 15
                      },
                      "zerolinecolor": "white",
                      "zerolinewidth": 2
                    },
                    "yaxis": {
                      "automargin": true,
                      "gridcolor": "white",
                      "linecolor": "white",
                      "ticks": "",
                      "title": {
                        "standoff": 15
                      },
                      "zerolinecolor": "white",
                      "zerolinewidth": 2
                    }
                  }
                },
                "xaxis": {
                  "anchor": "y",
                  "domain": [
                    0,
                    1
                  ],
                  "title": {
                    "text": "Fare"
                  }
                },
                "yaxis": {
                  "anchor": "x",
                  "domain": [
                    0,
                    1
                  ],
                  "title": {
                    "text": "index"
                  }
                }
              }
            }
          },
          "metadata": {},
          "output_type": "display_data"
        }
      ],
      "source": [
        "fig = px.scatter(titanic_train, x='Fare', hover_data=['Fare'])\n",
        "fig.show()"
      ]
    },
    {
      "cell_type": "code",
      "execution_count": 140,
      "metadata": {},
      "outputs": [],
      "source": [
        "# Preenchi os valores de Fare iguais a 0 com a mediana, pra evitar distorções\n",
        "# Tinham alguns valores bem altos, mas cheuqie e todos estavam na 1º classe, então mantive\n",
        "titanic_train['Fare'].replace(0, titanic_train['Fare'].median(), inplace=True)"
      ]
    },
    {
      "cell_type": "code",
      "execution_count": 141,
      "metadata": {},
      "outputs": [],
      "source": [
        "# Como Fare é o valor da passagem, trunquei pra 2 casas decimais\n",
        "titanic_train['Fare'] = titanic_train['Fare'].round(2)"
      ]
    },
    {
      "cell_type": "code",
      "execution_count": 142,
      "metadata": {},
      "outputs": [],
      "source": [
        "# Como a idade é um valor inteiro, converti pra int\n",
        "titanic_train['Age'] = titanic_train['Age'].astype(int)"
      ]
    },
    {
      "cell_type": "code",
      "execution_count": 147,
      "metadata": {},
      "outputs": [],
      "source": [
        "# Normalizando os valores\n",
        "scaler = MinMaxScaler()\n",
        "\n",
        "titanic_train.iloc[:, 1:] = scaler.fit_transform(titanic_train.iloc[:, 1:])\n",
        "# titanic_test.iloc[:, 1:] = scaler.transform(titanic_test.iloc[:, 1:])"
      ]
    },
    {
      "cell_type": "code",
      "execution_count": 148,
      "metadata": {},
      "outputs": [
        {
          "data": {
            "text/html": [
              "<div>\n",
              "<style scoped>\n",
              "    .dataframe tbody tr th:only-of-type {\n",
              "        vertical-align: middle;\n",
              "    }\n",
              "\n",
              "    .dataframe tbody tr th {\n",
              "        vertical-align: top;\n",
              "    }\n",
              "\n",
              "    .dataframe thead th {\n",
              "        text-align: right;\n",
              "    }\n",
              "</style>\n",
              "<table border=\"1\" class=\"dataframe\">\n",
              "  <thead>\n",
              "    <tr style=\"text-align: right;\">\n",
              "      <th></th>\n",
              "      <th>Survived</th>\n",
              "      <th>Age</th>\n",
              "      <th>Fare</th>\n",
              "      <th>Embarked_C</th>\n",
              "      <th>Embarked_Q</th>\n",
              "      <th>Embarked_S</th>\n",
              "      <th>Sex_female</th>\n",
              "      <th>Sex_male</th>\n",
              "      <th>Pclass_1</th>\n",
              "      <th>Pclass_2</th>\n",
              "      <th>Pclass_3</th>\n",
              "      <th>FamilySize</th>\n",
              "    </tr>\n",
              "  </thead>\n",
              "  <tbody>\n",
              "    <tr>\n",
              "      <th>0</th>\n",
              "      <td>0</td>\n",
              "      <td>0.2750</td>\n",
              "      <td>0.006374</td>\n",
              "      <td>0.0</td>\n",
              "      <td>0.0</td>\n",
              "      <td>1.0</td>\n",
              "      <td>0.0</td>\n",
              "      <td>1.0</td>\n",
              "      <td>0.0</td>\n",
              "      <td>0.0</td>\n",
              "      <td>1.0</td>\n",
              "      <td>0.1</td>\n",
              "    </tr>\n",
              "    <tr>\n",
              "      <th>1</th>\n",
              "      <td>1</td>\n",
              "      <td>0.4750</td>\n",
              "      <td>0.132338</td>\n",
              "      <td>1.0</td>\n",
              "      <td>0.0</td>\n",
              "      <td>0.0</td>\n",
              "      <td>1.0</td>\n",
              "      <td>0.0</td>\n",
              "      <td>1.0</td>\n",
              "      <td>0.0</td>\n",
              "      <td>0.0</td>\n",
              "      <td>0.1</td>\n",
              "    </tr>\n",
              "    <tr>\n",
              "      <th>2</th>\n",
              "      <td>1</td>\n",
              "      <td>0.3250</td>\n",
              "      <td>0.007692</td>\n",
              "      <td>0.0</td>\n",
              "      <td>0.0</td>\n",
              "      <td>1.0</td>\n",
              "      <td>1.0</td>\n",
              "      <td>0.0</td>\n",
              "      <td>0.0</td>\n",
              "      <td>0.0</td>\n",
              "      <td>1.0</td>\n",
              "      <td>0.0</td>\n",
              "    </tr>\n",
              "    <tr>\n",
              "      <th>3</th>\n",
              "      <td>1</td>\n",
              "      <td>0.4375</td>\n",
              "      <td>0.096573</td>\n",
              "      <td>0.0</td>\n",
              "      <td>0.0</td>\n",
              "      <td>1.0</td>\n",
              "      <td>1.0</td>\n",
              "      <td>0.0</td>\n",
              "      <td>1.0</td>\n",
              "      <td>0.0</td>\n",
              "      <td>0.0</td>\n",
              "      <td>0.1</td>\n",
              "    </tr>\n",
              "    <tr>\n",
              "      <th>4</th>\n",
              "      <td>0</td>\n",
              "      <td>0.4375</td>\n",
              "      <td>0.007948</td>\n",
              "      <td>0.0</td>\n",
              "      <td>0.0</td>\n",
              "      <td>1.0</td>\n",
              "      <td>0.0</td>\n",
              "      <td>1.0</td>\n",
              "      <td>0.0</td>\n",
              "      <td>0.0</td>\n",
              "      <td>1.0</td>\n",
              "      <td>0.0</td>\n",
              "    </tr>\n",
              "    <tr>\n",
              "      <th>...</th>\n",
              "      <td>...</td>\n",
              "      <td>...</td>\n",
              "      <td>...</td>\n",
              "      <td>...</td>\n",
              "      <td>...</td>\n",
              "      <td>...</td>\n",
              "      <td>...</td>\n",
              "      <td>...</td>\n",
              "      <td>...</td>\n",
              "      <td>...</td>\n",
              "      <td>...</td>\n",
              "      <td>...</td>\n",
              "    </tr>\n",
              "    <tr>\n",
              "      <th>886</th>\n",
              "      <td>0</td>\n",
              "      <td>0.3375</td>\n",
              "      <td>0.017686</td>\n",
              "      <td>0.0</td>\n",
              "      <td>0.0</td>\n",
              "      <td>1.0</td>\n",
              "      <td>0.0</td>\n",
              "      <td>1.0</td>\n",
              "      <td>0.0</td>\n",
              "      <td>1.0</td>\n",
              "      <td>0.0</td>\n",
              "      <td>0.0</td>\n",
              "    </tr>\n",
              "    <tr>\n",
              "      <th>887</th>\n",
              "      <td>1</td>\n",
              "      <td>0.2375</td>\n",
              "      <td>0.051129</td>\n",
              "      <td>0.0</td>\n",
              "      <td>0.0</td>\n",
              "      <td>1.0</td>\n",
              "      <td>1.0</td>\n",
              "      <td>0.0</td>\n",
              "      <td>1.0</td>\n",
              "      <td>0.0</td>\n",
              "      <td>0.0</td>\n",
              "      <td>0.0</td>\n",
              "    </tr>\n",
              "    <tr>\n",
              "      <th>888</th>\n",
              "      <td>0</td>\n",
              "      <td>0.3000</td>\n",
              "      <td>0.038244</td>\n",
              "      <td>0.0</td>\n",
              "      <td>0.0</td>\n",
              "      <td>1.0</td>\n",
              "      <td>1.0</td>\n",
              "      <td>0.0</td>\n",
              "      <td>0.0</td>\n",
              "      <td>0.0</td>\n",
              "      <td>1.0</td>\n",
              "      <td>0.3</td>\n",
              "    </tr>\n",
              "    <tr>\n",
              "      <th>889</th>\n",
              "      <td>1</td>\n",
              "      <td>0.3250</td>\n",
              "      <td>0.051129</td>\n",
              "      <td>1.0</td>\n",
              "      <td>0.0</td>\n",
              "      <td>0.0</td>\n",
              "      <td>0.0</td>\n",
              "      <td>1.0</td>\n",
              "      <td>1.0</td>\n",
              "      <td>0.0</td>\n",
              "      <td>0.0</td>\n",
              "      <td>0.0</td>\n",
              "    </tr>\n",
              "    <tr>\n",
              "      <th>890</th>\n",
              "      <td>0</td>\n",
              "      <td>0.4000</td>\n",
              "      <td>0.007358</td>\n",
              "      <td>0.0</td>\n",
              "      <td>1.0</td>\n",
              "      <td>0.0</td>\n",
              "      <td>0.0</td>\n",
              "      <td>1.0</td>\n",
              "      <td>0.0</td>\n",
              "      <td>0.0</td>\n",
              "      <td>1.0</td>\n",
              "      <td>0.0</td>\n",
              "    </tr>\n",
              "  </tbody>\n",
              "</table>\n",
              "<p>891 rows × 12 columns</p>\n",
              "</div>"
            ],
            "text/plain": [
              "     Survived     Age      Fare  Embarked_C  Embarked_Q  Embarked_S  \\\n",
              "0           0  0.2750  0.006374         0.0         0.0         1.0   \n",
              "1           1  0.4750  0.132338         1.0         0.0         0.0   \n",
              "2           1  0.3250  0.007692         0.0         0.0         1.0   \n",
              "3           1  0.4375  0.096573         0.0         0.0         1.0   \n",
              "4           0  0.4375  0.007948         0.0         0.0         1.0   \n",
              "..        ...     ...       ...         ...         ...         ...   \n",
              "886         0  0.3375  0.017686         0.0         0.0         1.0   \n",
              "887         1  0.2375  0.051129         0.0         0.0         1.0   \n",
              "888         0  0.3000  0.038244         0.0         0.0         1.0   \n",
              "889         1  0.3250  0.051129         1.0         0.0         0.0   \n",
              "890         0  0.4000  0.007358         0.0         1.0         0.0   \n",
              "\n",
              "     Sex_female  Sex_male  Pclass_1  Pclass_2  Pclass_3  FamilySize  \n",
              "0           0.0       1.0       0.0       0.0       1.0         0.1  \n",
              "1           1.0       0.0       1.0       0.0       0.0         0.1  \n",
              "2           1.0       0.0       0.0       0.0       1.0         0.0  \n",
              "3           1.0       0.0       1.0       0.0       0.0         0.1  \n",
              "4           0.0       1.0       0.0       0.0       1.0         0.0  \n",
              "..          ...       ...       ...       ...       ...         ...  \n",
              "886         0.0       1.0       0.0       1.0       0.0         0.0  \n",
              "887         1.0       0.0       1.0       0.0       0.0         0.0  \n",
              "888         1.0       0.0       0.0       0.0       1.0         0.3  \n",
              "889         0.0       1.0       1.0       0.0       0.0         0.0  \n",
              "890         0.0       1.0       0.0       0.0       1.0         0.0  \n",
              "\n",
              "[891 rows x 12 columns]"
            ]
          },
          "execution_count": 148,
          "metadata": {},
          "output_type": "execute_result"
        }
      ],
      "source": [
        "titanic_train"
      ]
    },
    {
      "cell_type": "markdown",
      "metadata": {},
      "source": [
        "## Execução do modelo"
      ]
    },
    {
      "cell_type": "code",
      "execution_count": 188,
      "metadata": {},
      "outputs": [],
      "source": [
        "# Definição do modelo\n",
        "# 2 Camadas ocultas com função de ativação ReLU\n",
        "class NeuralNetwork(nn.Module):\n",
        "    def __init__(self, input_size, hidden_size1, hidden_size2, hidden_size3):\n",
        "        super(NeuralNetwork, self).__init__()\n",
        "        self.fc1 = nn.Linear(input_size, hidden_size1)\n",
        "        self.relu1 = nn.ReLU()\n",
        "        self.fc2 = nn.Linear(hidden_size1, hidden_size2)\n",
        "        self.relu2 = nn.ReLU()\n",
        "        self.fc3 = nn.Linear(hidden_size2, hidden_size3)\n",
        "        self.relu3 = nn.ReLU()\n",
        "        self.fc4 = nn.Linear(hidden_size3, 1)\n",
        "        self.sigmoid = nn.Sigmoid()\n",
        "        \n",
        "    def forward(self, x):\n",
        "        out = self.fc1(x)\n",
        "        out = self.relu1(out)\n",
        "        out = self.fc2(out)\n",
        "        out = self.relu2(out)\n",
        "        out = self.fc3(out)\n",
        "        out = self.relu3(out)\n",
        "        out = self.fc4(out)\n",
        "        out = self.sigmoid(out)\n",
        "        return out"
      ]
    },
    {
      "cell_type": "code",
      "execution_count": 189,
      "metadata": {},
      "outputs": [],
      "source": [
        "# Preparando os dados\n",
        "features = titanic_train.drop('Survived', axis=1).values\n",
        "labels = titanic_train['Survived'].values\n",
        "\n",
        "features = torch.tensor(features, dtype=torch.float)\n",
        "labels = torch.tensor(labels, dtype=torch.float).view(-1, 1)\n",
        "\n",
        "dataset = TensorDataset(features, labels)\n",
        "dataloader = DataLoader(dataset, batch_size=64, shuffle=True)\n",
        "\n",
        "# Dividindo os dados em treino e teste\n",
        "features_train, features_test, labels_train, labels_test = train_test_split(features, labels, test_size=0.1, random_state=4)"
      ]
    },
    {
      "cell_type": "code",
      "execution_count": 198,
      "metadata": {},
      "outputs": [],
      "source": [
        "# Definição dos hiperparametros\n",
        "input_size = titanic_train.shape[1] - 1\n",
        "hidden_size1 = 32\n",
        "hidden_size2 = 16\n",
        "hidden_size3 = 16\n",
        "learning_rate = 0.001\n",
        "num_epochs = 10\n",
        "\n",
        "model = NeuralNetwork(input_size, hidden_size1, hidden_size2, hidden_size3)\n",
        "criterion = nn.BCELoss()\n",
        "optimizer = optim.Adam(model.parameters(), lr=learning_rate)"
      ]
    },
    {
      "cell_type": "code",
      "execution_count": 199,
      "metadata": {},
      "outputs": [
        {
          "name": "stdout",
          "output_type": "stream",
          "text": [
            "Epoch [1/10], Train Loss: 0.6681, Train Accuracy: 0.6162, Test Loss: 0.6584, Test Accuracy: 0.7000\n",
            "Epoch [2/10], Train Loss: 0.6601, Train Accuracy: 0.6162, Test Loss: 0.6456, Test Accuracy: 0.7000\n",
            "Epoch [3/10], Train Loss: 0.6527, Train Accuracy: 0.6162, Test Loss: 0.6310, Test Accuracy: 0.7000\n",
            "Epoch [4/10], Train Loss: 0.6650, Train Accuracy: 0.6330, Test Loss: 0.6103, Test Accuracy: 0.7333\n",
            "Epoch [5/10], Train Loss: 0.6538, Train Accuracy: 0.7116, Test Loss: 0.5811, Test Accuracy: 0.7778\n",
            "Epoch [6/10], Train Loss: 0.6038, Train Accuracy: 0.7486, Test Loss: 0.5408, Test Accuracy: 0.8778\n",
            "Epoch [7/10], Train Loss: 0.5961, Train Accuracy: 0.8103, Test Loss: 0.4894, Test Accuracy: 0.8778\n",
            "Epoch [8/10], Train Loss: 0.5003, Train Accuracy: 0.8092, Test Loss: 0.4353, Test Accuracy: 0.8667\n",
            "Epoch [9/10], Train Loss: 0.4717, Train Accuracy: 0.7969, Test Loss: 0.3901, Test Accuracy: 0.8778\n",
            "Epoch [10/10], Train Loss: 0.4325, Train Accuracy: 0.8081, Test Loss: 0.3663, Test Accuracy: 0.8778\n"
          ]
        }
      ],
      "source": [
        "# Treinando o modelo\n",
        "train_losses = []\n",
        "train_accuracies = []\n",
        "test_losses = []\n",
        "test_accuracies = []\n",
        "\n",
        "for epoch in range(num_epochs):\n",
        "    # Treinamento\n",
        "    model.train()\n",
        "    correct_train = 0\n",
        "    total_train = 0\n",
        "    for inputs, labels in dataloader:\n",
        "        outputs = model(inputs)\n",
        "        loss = criterion(outputs, labels)\n",
        "        \n",
        "        predicted = torch.round(outputs)\n",
        "        total_train += labels.size(0)\n",
        "        correct_train += (predicted == labels).sum().item()\n",
        "        \n",
        "        optimizer.zero_grad()\n",
        "        loss.backward()\n",
        "        optimizer.step()\n",
        "        \n",
        "    train_losses.append(loss.item())\n",
        "    train_accuracy = correct_train / total_train\n",
        "    train_accuracies.append(train_accuracy)\n",
        "    \n",
        "    # Validação\n",
        "    model.eval()\n",
        "    with torch.no_grad():\n",
        "        outputs_test = model(features_test)\n",
        "        loss_test = criterion(outputs_test, labels_test)\n",
        "        \n",
        "        predicted_test = torch.round(outputs_test)\n",
        "        correct_test = (predicted_test == labels_test).sum().item()\n",
        "        total_test = labels_test.size(0)\n",
        "        test_accuracy = correct_test / total_test\n",
        "        test_losses.append(loss_test.item())\n",
        "        test_accuracies.append(test_accuracy)\n",
        "    \n",
        "    print(f\"Epoch [{epoch+1}/{num_epochs}], Train Loss: {loss.item():.4f}, Train Accuracy: {train_accuracy:.4f}, Test Loss: {loss_test.item():.4f}, Test Accuracy: {test_accuracy:.4f}\")"
      ]
    },
    {
      "cell_type": "code",
      "execution_count": 200,
      "metadata": {},
      "outputs": [
        {
          "data": {
            "image/png": "[encoded data removed]",
            "text/plain": [
              "<Figure size 640x480 with 1 Axes>"
            ]
          },
          "metadata": {},
          "output_type": "display_data"
        }
      ],
      "source": [
        "plt.plot(train_losses)\n",
        "plt.xlabel('Epoch')\n",
        "plt.ylabel('Loss')\n",
        "plt.title('Training Loss')\n",
        "plt.show()"
      ]
    },
    {
      "cell_type": "code",
      "execution_count": 201,
      "metadata": {},
      "outputs": [
        {
          "data": {
            "image/png": "[encoded data removed]",
            "text/plain": [
              "<Figure size 640x480 with 1 Axes>"
            ]
          },
          "metadata": {},
          "output_type": "display_data"
        }
      ],
      "source": [
        "plt.plot(test_losses)\n",
        "plt.xlabel('Epoch')\n",
        "plt.ylabel('Loss')\n",
        "plt.title('Test Loss')\n",
        "plt.show()"
      ]
    },
    {
      "cell_type": "code",
      "execution_count": 202,
      "metadata": {},
      "outputs": [
        {
          "data": {
            "image/png": "[encoded data removed]",
            "text/plain": [
              "<Figure size 640x480 with 2 Axes>"
            ]
          },
          "metadata": {},
          "output_type": "display_data"
        }
      ],
      "source": [
        "# Matriz de confusão\n",
        "confusion = confusion_matrix(labels_test, predicted_test)\n",
        "sns.heatmap(confusion, annot=True, cmap=\"Blues\", fmt=\"d\")\n",
        "plt.xlabel(\"Predicted\")\n",
        "plt.ylabel(\"True\")\n",
        "plt.show()\n",
        "# print(confusion)"
      ]
    },
    {
      "cell_type": "markdown",
      "metadata": {
        "id": "vXeREbtpFsHK"
      },
      "source": [
        "# Questão 2"
      ]
    },
    {
      "cell_type": "markdown",
      "metadata": {
        "id": "1D1WcG2bFkjF"
      },
      "source": [
        "2-) Implementem duas redes neurais artificiais para o problema de classificação de dígitos\n",
        "escritos à mão utilizando a base de dados do MNIST, disponível em:\n",
        "https://www.kaggle.com/datasets/hojjatk/mnist-dataset.\n",
        "\n",
        "A primeira rede deve ser uma rede\n",
        "neural perceptron de múltiplas camadas clássica, e a segunda deve ser uma Rede Neural\n",
        "Convolucional (CNN).\n",
        "\n",
        "Compare o desempenho das duas redes analisando a curva de erro\n",
        "médio e a matriz de confusão."
      ]
    },
    {
      "cell_type": "markdown",
      "metadata": {},
      "source": [
        "## Extração dos dados"
      ]
    },
    {
      "cell_type": "code",
      "execution_count": 2,
      "metadata": {},
      "outputs": [],
      "source": [
        "# Carregando as bases\n",
        "file = 'MNIST/train-images.idx3-ubyte'\n",
        "train_images = idx2numpy.convert_from_file(file)\n",
        "file = 'MNIST/train-labels.idx1-ubyte'\n",
        "train_labels = idx2numpy.convert_from_file(file)\n",
        "file = 'MNIST/t10k-images.idx3-ubyte'\n",
        "test_images = idx2numpy.convert_from_file(file)\n",
        "file = 'MNIST/t10k-labels.idx1-ubyte'\n",
        "test_labels = idx2numpy.convert_from_file(file)"
      ]
    },
    {
      "cell_type": "code",
      "execution_count": 3,
      "metadata": {},
      "outputs": [
        {
          "name": "stdout",
          "output_type": "stream",
          "text": [
            "test_labels:  (10000,)\n",
            "train_labels:  (60000,)\n",
            "train_images:  (60000, 28, 28)\n",
            "test_images:  (10000, 28, 28)\n"
          ]
        }
      ],
      "source": [
        "print(\"test_labels: \", test_labels.shape)\n",
        "print(\"train_labels: \", train_labels.shape)\n",
        "print(\"train_images: \", train_images.shape)\n",
        "print(\"test_images: \", test_images.shape)"
      ]
    },
    {
      "cell_type": "markdown",
      "metadata": {},
      "source": [
        "## Rede Neural Clássica"
      ]
    },
    {
      "cell_type": "code",
      "execution_count": 10,
      "metadata": {},
      "outputs": [],
      "source": [
        "# Preparando os dados\n",
        "train_images_flat = train_images.reshape(train_images.shape[0], -1)\n",
        "test_images_flat = test_images.reshape(test_images.shape[0], -1)\n",
        "\n",
        "train_images_tensor = torch.tensor(train_images_flat, dtype=torch.float32)\n",
        "train_labels_tensor = torch.tensor(train_labels, dtype=torch.long)\n",
        "test_images_tensor = torch.tensor(test_images_flat, dtype=torch.float32)\n",
        "test_labels_tensor = torch.tensor(test_labels, dtype=torch.long)\n",
        "\n",
        "train_dataset = TensorDataset(train_images_tensor, train_labels_tensor)\n",
        "test_dataset = TensorDataset(test_images_tensor, test_labels_tensor)\n",
        "\n",
        "batch_size = 2048\n",
        "train_loader = DataLoader(train_dataset, batch_size=batch_size, shuffle=True)\n",
        "test_loader = DataLoader(test_dataset, batch_size=batch_size, shuffle=False)"
      ]
    },
    {
      "cell_type": "code",
      "execution_count": 5,
      "metadata": {},
      "outputs": [
        {
          "data": {
            "text/plain": [
              "array([[  0,   0,   0,   0,   0,   0,   0,   0,   0,   0,   0,   0,   0,\n",
              "          0,   0,   0,   0,   0,   0,   0,   0,   0,   0,   0,   0,   0,\n",
              "          0,   0],\n",
              "       [  0,   0,   0,   0,   0,   0,   0,   0,   0,   0,   0,   0,   0,\n",
              "          0,   0,   0,   0,   0,   0,   0,   0,   0,   0,   0,   0,   0,\n",
              "          0,   0],\n",
              "       [  0,   0,   0,   0,   0,   0,   0,   0,   0,   0,   0,   0,   0,\n",
              "          0,   0,   0,   0,   0,   0,   0,   0,   0,   0,   0,   0,   0,\n",
              "          0,   0],\n",
              "       [  0,   0,   0,   0,   0,   0,   0,   0,   0,   0,   0,   0,   0,\n",
              "          0,   0,   0,   0,   0,   0,   0,   0,   0,   0,   0,   0,   0,\n",
              "          0,   0],\n",
              "       [  0,   0,   0,   0,   0,   0,   0,   0,   0,   0,   0,   0,   0,\n",
              "          0,   0,   0,   0,   0,   0,   0,   0,   0,   0,   0,   0,   0,\n",
              "          0,   0],\n",
              "       [  0,   0,   0,   0,   0,   0,   0,   0,   0,   0,   0,   0,   3,\n",
              "         18,  18,  18, 126, 136, 175,  26, 166, 255, 247, 127,   0,   0,\n",
              "          0,   0],\n",
              "       [  0,   0,   0,   0,   0,   0,   0,   0,  30,  36,  94, 154, 170,\n",
              "        253, 253, 253, 253, 253, 225, 172, 253, 242, 195,  64,   0,   0,\n",
              "          0,   0],\n",
              "       [  0,   0,   0,   0,   0,   0,   0,  49, 238, 253, 253, 253, 253,\n",
              "        253, 253, 253, 253, 251,  93,  82,  82,  56,  39,   0,   0,   0,\n",
              "          0,   0],\n",
              "       [  0,   0,   0,   0,   0,   0,   0,  18, 219, 253, 253, 253, 253,\n",
              "        253, 198, 182, 247, 241,   0,   0,   0,   0,   0,   0,   0,   0,\n",
              "          0,   0],\n",
              "       [  0,   0,   0,   0,   0,   0,   0,   0,  80, 156, 107, 253, 253,\n",
              "        205,  11,   0,  43, 154,   0,   0,   0,   0,   0,   0,   0,   0,\n",
              "          0,   0],\n",
              "       [  0,   0,   0,   0,   0,   0,   0,   0,   0,  14,   1, 154, 253,\n",
              "         90,   0,   0,   0,   0,   0,   0,   0,   0,   0,   0,   0,   0,\n",
              "          0,   0],\n",
              "       [  0,   0,   0,   0,   0,   0,   0,   0,   0,   0,   0, 139, 253,\n",
              "        190,   2,   0,   0,   0,   0,   0,   0,   0,   0,   0,   0,   0,\n",
              "          0,   0],\n",
              "       [  0,   0,   0,   0,   0,   0,   0,   0,   0,   0,   0,  11, 190,\n",
              "        253,  70,   0,   0,   0,   0,   0,   0,   0,   0,   0,   0,   0,\n",
              "          0,   0],\n",
              "       [  0,   0,   0,   0,   0,   0,   0,   0,   0,   0,   0,   0,  35,\n",
              "        241, 225, 160, 108,   1,   0,   0,   0,   0,   0,   0,   0,   0,\n",
              "          0,   0],\n",
              "       [  0,   0,   0,   0,   0,   0,   0,   0,   0,   0,   0,   0,   0,\n",
              "         81, 240, 253, 253, 119,  25,   0,   0,   0,   0,   0,   0,   0,\n",
              "          0,   0],\n",
              "       [  0,   0,   0,   0,   0,   0,   0,   0,   0,   0,   0,   0,   0,\n",
              "          0,  45, 186, 253, 253, 150,  27,   0,   0,   0,   0,   0,   0,\n",
              "          0,   0],\n",
              "       [  0,   0,   0,   0,   0,   0,   0,   0,   0,   0,   0,   0,   0,\n",
              "          0,   0,  16,  93, 252, 253, 187,   0,   0,   0,   0,   0,   0,\n",
              "          0,   0],\n",
              "       [  0,   0,   0,   0,   0,   0,   0,   0,   0,   0,   0,   0,   0,\n",
              "          0,   0,   0,   0, 249, 253, 249,  64,   0,   0,   0,   0,   0,\n",
              "          0,   0],\n",
              "       [  0,   0,   0,   0,   0,   0,   0,   0,   0,   0,   0,   0,   0,\n",
              "          0,  46, 130, 183, 253, 253, 207,   2,   0,   0,   0,   0,   0,\n",
              "          0,   0],\n",
              "       [  0,   0,   0,   0,   0,   0,   0,   0,   0,   0,   0,   0,  39,\n",
              "        148, 229, 253, 253, 253, 250, 182,   0,   0,   0,   0,   0,   0,\n",
              "          0,   0],\n",
              "       [  0,   0,   0,   0,   0,   0,   0,   0,   0,   0,  24, 114, 221,\n",
              "        253, 253, 253, 253, 201,  78,   0,   0,   0,   0,   0,   0,   0,\n",
              "          0,   0],\n",
              "       [  0,   0,   0,   0,   0,   0,   0,   0,  23,  66, 213, 253, 253,\n",
              "        253, 253, 198,  81,   2,   0,   0,   0,   0,   0,   0,   0,   0,\n",
              "          0,   0],\n",
              "       [  0,   0,   0,   0,   0,   0,  18, 171, 219, 253, 253, 253, 253,\n",
              "        195,  80,   9,   0,   0,   0,   0,   0,   0,   0,   0,   0,   0,\n",
              "          0,   0],\n",
              "       [  0,   0,   0,   0,  55, 172, 226, 253, 253, 253, 253, 244, 133,\n",
              "         11,   0,   0,   0,   0,   0,   0,   0,   0,   0,   0,   0,   0,\n",
              "          0,   0],\n",
              "       [  0,   0,   0,   0, 136, 253, 253, 253, 212, 135, 132,  16,   0,\n",
              "          0,   0,   0,   0,   0,   0,   0,   0,   0,   0,   0,   0,   0,\n",
              "          0,   0],\n",
              "       [  0,   0,   0,   0,   0,   0,   0,   0,   0,   0,   0,   0,   0,\n",
              "          0,   0,   0,   0,   0,   0,   0,   0,   0,   0,   0,   0,   0,\n",
              "          0,   0],\n",
              "       [  0,   0,   0,   0,   0,   0,   0,   0,   0,   0,   0,   0,   0,\n",
              "          0,   0,   0,   0,   0,   0,   0,   0,   0,   0,   0,   0,   0,\n",
              "          0,   0],\n",
              "       [  0,   0,   0,   0,   0,   0,   0,   0,   0,   0,   0,   0,   0,\n",
              "          0,   0,   0,   0,   0,   0,   0,   0,   0,   0,   0,   0,   0,\n",
              "          0,   0]], dtype=uint8)"
            ]
          },
          "execution_count": 5,
          "metadata": {},
          "output_type": "execute_result"
        }
      ],
      "source": [
        "train_images[0]"
      ]
    },
    {
      "cell_type": "code",
      "execution_count": 11,
      "metadata": {},
      "outputs": [],
      "source": [
        "# Definição do modelo\n",
        "class NeuralNetwork(nn.Module):\n",
        "    def __init__(self, hidden_size1, hidden_size2):\n",
        "        super(NeuralNetwork, self).__init__()\n",
        "        self.fc1 = nn.Linear(28*28, hidden_size1)\n",
        "        self.relu1 = nn.ReLU()\n",
        "        self.fc2 = nn.Linear(hidden_size1, hidden_size2)\n",
        "        self.relu2 = nn.ReLU()\n",
        "        self.fc3 = nn.Linear(hidden_size2, 10)\n",
        "        self.softmax = nn.Softmax(dim=1)\n",
        "        \n",
        "    def forward(self, x):\n",
        "        out = self.fc1(x)\n",
        "        out = self.relu1(out)\n",
        "        out = self.fc2(out)\n",
        "        out = self.relu2(out)\n",
        "        out = self.fc3(out)\n",
        "        out = self.softmax(out)\n",
        "        return out"
      ]
    },
    {
      "cell_type": "code",
      "execution_count": 12,
      "metadata": {},
      "outputs": [],
      "source": [
        "hidden_size1 = 128\n",
        "hidden_size2 = 16\n",
        "learning_rate = 0.001\n",
        "num_epochs = 10\n",
        "\n",
        "model = NeuralNetwork(hidden_size1, hidden_size2)\n",
        "criterion = nn.CrossEntropyLoss()\n",
        "optimizer = optim.Adam(model.parameters(), lr=learning_rate)"
      ]
    },
    {
      "cell_type": "code",
      "execution_count": 13,
      "metadata": {},
      "outputs": [
        {
          "name": "stdout",
          "output_type": "stream",
          "text": [
            "Epoch [1/10], Train Loss: 2.0141, Train Accuracy: 0.3671, Test Loss: 1.9968, Test Accuracy: 0.4649\n",
            "Epoch [2/10], Train Loss: 1.9712, Train Accuracy: 0.4712, Test Loss: 1.9765, Test Accuracy: 0.4845\n",
            "Epoch [3/10], Train Loss: 1.9737, Train Accuracy: 0.4792, Test Loss: 1.9736, Test Accuracy: 0.4887\n",
            "Epoch [4/10], Train Loss: 1.9279, Train Accuracy: 0.5077, Test Loss: 1.8889, Test Accuracy: 0.5721\n",
            "Epoch [5/10], Train Loss: 1.8044, Train Accuracy: 0.6399, Test Loss: 1.7879, Test Accuracy: 0.6685\n",
            "Epoch [6/10], Train Loss: 1.7920, Train Accuracy: 0.6699, Test Loss: 1.7840, Test Accuracy: 0.6761\n",
            "Epoch [7/10], Train Loss: 1.7938, Train Accuracy: 0.6763, Test Loss: 1.7765, Test Accuracy: 0.6817\n",
            "Epoch [8/10], Train Loss: 1.7623, Train Accuracy: 0.6814, Test Loss: 1.7727, Test Accuracy: 0.6853\n",
            "Epoch [9/10], Train Loss: 1.7113, Train Accuracy: 0.7428, Test Loss: 1.6796, Test Accuracy: 0.7740\n",
            "Epoch [10/10], Train Loss: 1.6606, Train Accuracy: 0.7879, Test Loss: 1.5879, Test Accuracy: 0.8528\n"
          ]
        }
      ],
      "source": [
        "train_losses = []\n",
        "train_accuracies = []\n",
        "test_losses = []\n",
        "test_accuracies = []\n",
        "\n",
        "for epoch in range(num_epochs):\n",
        "    # Treinamento\n",
        "    model.train()\n",
        "    correct_train = 0\n",
        "    total_train = 0\n",
        "    for inputs, labels in train_loader:\n",
        "        outputs = model(inputs)\n",
        "        loss = criterion(outputs, labels)\n",
        "        \n",
        "        _, predicted = torch.max(outputs.data, 1)\n",
        "        total_train += labels.size(0)\n",
        "        correct_train += (predicted == labels).sum().item()\n",
        "        \n",
        "        optimizer.zero_grad()\n",
        "        loss.backward()\n",
        "        optimizer.step()\n",
        "        \n",
        "    train_losses.append(loss.item())\n",
        "    train_accuracy = correct_train / total_train\n",
        "    train_accuracies.append(train_accuracy)\n",
        "    \n",
        "    # Validação\n",
        "    model.eval()\n",
        "    correct_test = 0\n",
        "    total_test = 0\n",
        "    with torch.no_grad():\n",
        "        all_labels = []\n",
        "        all_predictions = []\n",
        "        for inputs_test, labels_test in test_loader:\n",
        "            outputs_test = model(inputs_test)\n",
        "            loss_test = criterion(outputs_test, labels_test)\n",
        "            \n",
        "            _, predicted_test = torch.max(outputs_test.data, 1)\n",
        "            all_labels.extend(labels_test.numpy())\n",
        "            all_predictions.extend(predicted_test.numpy())\n",
        "            total_test += labels_test.size(0)\n",
        "            correct_test += (predicted_test == labels_test).sum().item()\n",
        "        \n",
        "        test_accuracy = correct_test / total_test\n",
        "        test_losses.append(loss_test.item())\n",
        "        test_accuracies.append(test_accuracy)\n",
        "    \n",
        "    print(f\"Epoch [{epoch+1}/{num_epochs}], Train Loss: {loss.item():.4f}, Train Accuracy: {train_accuracy:.4f}, Test Loss: {loss_test.item():.4f}, Test Accuracy: {test_accuracy:.4f}\")"
      ]
    },
    {
      "cell_type": "code",
      "execution_count": 14,
      "metadata": {},
      "outputs": [
        {
          "data": {
            "image/png": "[encoded data removed]",
            "text/plain": [
              "<Figure size 640x480 with 1 Axes>"
            ]
          },
          "metadata": {},
          "output_type": "display_data"
        }
      ],
      "source": [
        "plt.plot(train_losses)\n",
        "plt.xlabel('Epoch')\n",
        "plt.ylabel('Loss')\n",
        "plt.title('Training Loss')\n",
        "plt.show()"
      ]
    },
    {
      "cell_type": "code",
      "execution_count": 15,
      "metadata": {},
      "outputs": [
        {
          "data": {
            "image/png": "[encoded data removed]",
            "text/plain": [
              "<Figure size 640x480 with 1 Axes>"
            ]
          },
          "metadata": {},
          "output_type": "display_data"
        }
      ],
      "source": [
        "plt.plot(test_losses)\n",
        "plt.xlabel('Epoch')\n",
        "plt.ylabel('Loss')\n",
        "plt.title('Test Loss')\n",
        "plt.show()"
      ]
    },
    {
      "cell_type": "code",
      "execution_count": 16,
      "metadata": {},
      "outputs": [
        {
          "data": {
            "image/png": "[encoded data removed]",
            "text/plain": [
              "<Figure size 640x480 with 2 Axes>"
            ]
          },
          "metadata": {},
          "output_type": "display_data"
        },
        {
          "name": "stdout",
          "output_type": "stream",
          "text": [
            "10000\n"
          ]
        }
      ],
      "source": [
        "confusion = confusion_matrix(all_labels, all_predictions)\n",
        "sns.heatmap(confusion, annot=True, cmap=\"Blues\", fmt=\"d\")\n",
        "plt.xlabel(\"Predicted\")\n",
        "plt.ylabel(\"True\")\n",
        "plt.show()\n",
        "print(len(all_labels))"
      ]
    },
    {
      "cell_type": "code",
      "execution_count": 19,
      "metadata": {},
      "outputs": [
        {
          "data": {
            "image/png": "[encoded data removed]",
            "text/plain": [
              "<Figure size 640x480 with 1 Axes>"
            ]
          },
          "metadata": {},
          "output_type": "display_data"
        },
        {
          "data": {
            "image/png": "[encoded data removed]",
            "text/plain": [
              "<Figure size 640x480 with 1 Axes>"
            ]
          },
          "metadata": {},
          "output_type": "display_data"
        },
        {
          "data": {
            "image/png": "[encoded data removed]",
            "text/plain": [
              "<Figure size 640x480 with 1 Axes>"
            ]
          },
          "metadata": {},
          "output_type": "display_data"
        },
        {
          "data": {
            "image/png": "[encoded data removed]",
            "text/plain": [
              "<Figure size 640x480 with 1 Axes>"
            ]
          },
          "metadata": {},
          "output_type": "display_data"
        },
        {
          "data": {
            "image/png": "[encoded data removed]",
            "text/plain": [
              "<Figure size 640x480 with 1 Axes>"
            ]
          },
          "metadata": {},
          "output_type": "display_data"
        },
        {
          "data": {
            "image/png": "[encoded data removed]",
            "text/plain": [
              "<Figure size 640x480 with 1 Axes>"
            ]
          },
          "metadata": {},
          "output_type": "display_data"
        },
        {
          "data": {
            "image/png": "[encoded data removed]",
            "text/plain": [
              "<Figure size 640x480 with 1 Axes>"
            ]
          },
          "metadata": {},
          "output_type": "display_data"
        },
        {
          "data": {
            "image/png": "[encoded data removed]",
            "text/plain": [
              "<Figure size 640x480 with 1 Axes>"
            ]
          },
          "metadata": {},
          "output_type": "display_data"
        },
        {
          "data": {
            "image/png": "[encoded data removed]",
            "text/plain": [
              "<Figure size 640x480 with 1 Axes>"
            ]
          },
          "metadata": {},
          "output_type": "display_data"
        },
        {
          "data": {
            "image/png": "[encoded data removed]",
            "text/plain": [
              "<Figure size 640x480 with 1 Axes>"
            ]
          },
          "metadata": {},
          "output_type": "display_data"
        }
      ],
      "source": [
        "for i in range(10):\n",
        "    first_test_image = inputs_test[i].numpy().reshape(28, 28)\n",
        "    first_test_label = predicted_test[i]\n",
        "\n",
        "    plt.imshow(first_test_image, cmap='gray') \n",
        "    plt.axis('off')\n",
        "    plt.title(f\"Prediction: {first_test_label.item()}\") \n",
        "    plt.show()"
      ]
    },
    {
      "cell_type": "markdown",
      "metadata": {},
      "source": [
        "## Rede Neural Convolucional"
      ]
    },
    {
      "cell_type": "code",
      "execution_count": 20,
      "metadata": {},
      "outputs": [],
      "source": [
        "train_images_tensor = torch.tensor(train_images, dtype=torch.float32)\n",
        "train_labels_tensor = torch.tensor(train_labels, dtype=torch.long)\n",
        "test_images_tensor = torch.tensor(test_images, dtype=torch.float32)\n",
        "test_labels_tensor = torch.tensor(test_labels, dtype=torch.long)\n",
        "\n",
        "train_images_tensor = torch.unsqueeze(train_images_tensor, 1)\n",
        "test_images_tensor = torch.unsqueeze(test_images_tensor, 1)\n",
        "\n",
        "train_dataset = TensorDataset(train_images_tensor, train_labels_tensor)\n",
        "test_dataset = TensorDataset(test_images_tensor, test_labels_tensor)\n",
        "\n",
        "batch_size = 2048\n",
        "train_loader = DataLoader(train_dataset, batch_size=batch_size, shuffle=True)\n",
        "test_loader = DataLoader(test_dataset, batch_size=batch_size, shuffle=False)"
      ]
    },
    {
      "cell_type": "code",
      "execution_count": 21,
      "metadata": {},
      "outputs": [],
      "source": [
        "class CNN(nn.Module):\n",
        "    def __init__(self):\n",
        "        super(CNN, self).__init__()\n",
        "        self.conv1 = nn.Conv2d(1, 32, kernel_size=3, stride=1, padding=1)\n",
        "        self.conv2 = nn.Conv2d(32, 64, kernel_size=3, stride=1, padding=1)\n",
        "        self.pool = nn.MaxPool2d(2, 2)\n",
        "        self.fc1 = nn.Linear(64 * 7 * 7, 128)\n",
        "        self.fc2 = nn.Linear(128, 10)\n",
        "\n",
        "    def forward(self, x):\n",
        "        x = self.pool(torch.relu(self.conv1(x)))\n",
        "        x = self.pool(torch.relu(self.conv2(x)))\n",
        "        x = x.view(-1, 64 * 7 * 7)\n",
        "        x = torch.relu(self.fc1(x))\n",
        "        x = self.fc2(x)\n",
        "        return x"
      ]
    },
    {
      "cell_type": "code",
      "execution_count": 22,
      "metadata": {},
      "outputs": [],
      "source": [
        "learning_rate = 0.001\n",
        "num_epochs = 5\n",
        "\n",
        "model = CNN()\n",
        "criterion = nn.CrossEntropyLoss()\n",
        "optimizer = optim.Adam(model.parameters(), lr=learning_rate)"
      ]
    },
    {
      "cell_type": "code",
      "execution_count": 23,
      "metadata": {},
      "outputs": [
        {
          "name": "stdout",
          "output_type": "stream",
          "text": [
            "Epoch [1/5], Train Loss: 0.0176, Train Accuracy: 0.5638, Test Loss: 0.0679, Test Accuracy: 0.8838\n",
            "Epoch [2/5], Train Loss: 0.0044, Train Accuracy: 0.9312, Test Loss: 0.0167, Test Accuracy: 0.9636\n",
            "Epoch [3/5], Train Loss: 0.0028, Train Accuracy: 0.9680, Test Loss: 0.0109, Test Accuracy: 0.9771\n",
            "Epoch [4/5], Train Loss: 0.0014, Train Accuracy: 0.9781, Test Loss: 0.0084, Test Accuracy: 0.9803\n",
            "Epoch [5/5], Train Loss: 0.0024, Train Accuracy: 0.9824, Test Loss: 0.0066, Test Accuracy: 0.9830\n"
          ]
        }
      ],
      "source": [
        "train_losses = []\n",
        "train_accuracies = []\n",
        "test_losses = []\n",
        "test_accuracies = []\n",
        "\n",
        "for epoch in range(num_epochs):\n",
        "    # Treinamento\n",
        "    model.train()\n",
        "    correct_train = 0\n",
        "    total_train = 0\n",
        "    for inputs, labels in train_loader:\n",
        "        optimizer.zero_grad()\n",
        "        outputs = model(inputs)\n",
        "        loss = criterion(outputs, labels)\n",
        "        \n",
        "        loss.backward()\n",
        "        optimizer.step()\n",
        "        \n",
        "        _, predicted = torch.max(outputs, 1)\n",
        "        total_train += labels.size(0)\n",
        "        correct_train += (predicted == labels).sum().item()\n",
        "        \n",
        "    train_loss = loss.item() / len(train_loader)\n",
        "    train_accuracy = correct_train / total_train\n",
        "    train_losses.append(train_loss)\n",
        "    train_accuracies.append(train_accuracy)\n",
        "    \n",
        "    # Validação\n",
        "    model.eval()\n",
        "    correct_test = 0\n",
        "    total_test = 0\n",
        "    with torch.no_grad():\n",
        "        all_labels = []\n",
        "        all_predictions = []\n",
        "        for inputs_test, labels_test in test_loader:\n",
        "            outputs_test = model(inputs_test)\n",
        "            loss_test = criterion(outputs_test, labels_test)\n",
        "            \n",
        "            _, predicted_test = torch.max(outputs_test, 1)\n",
        "            all_labels.extend(labels_test.numpy())\n",
        "            all_predictions.extend(predicted_test.numpy())\n",
        "            total_test += labels_test.size(0)\n",
        "            correct_test += (predicted_test == labels_test).sum().item()\n",
        "        \n",
        "        test_loss = loss_test.item() / len(test_loader)\n",
        "        test_accuracy = correct_test / total_test\n",
        "        test_losses.append(test_loss)\n",
        "        test_accuracies.append(test_accuracy)\n",
        "    \n",
        "    print(f\"Epoch [{epoch+1}/{num_epochs}], Train Loss: {train_loss:.4f}, Train Accuracy: {train_accuracy:.4f}, Test Loss: {test_loss:.4f}, Test Accuracy: {test_accuracy:.4f}\")"
      ]
    },
    {
      "cell_type": "code",
      "execution_count": 24,
      "metadata": {},
      "outputs": [
        {
          "data": {
            "image/png": "[encoded data removed]",
            "text/plain": [
              "<Figure size 640x480 with 1 Axes>"
            ]
          },
          "metadata": {},
          "output_type": "display_data"
        }
      ],
      "source": [
        "plt.plot(train_losses)\n",
        "plt.xlabel('Epoch')\n",
        "plt.ylabel('Loss')\n",
        "plt.title('Training Loss')\n",
        "plt.show()"
      ]
    },
    {
      "cell_type": "code",
      "execution_count": 25,
      "metadata": {},
      "outputs": [
        {
          "data": {
            "image/png": "[encoded data removed]",
            "text/plain": [
              "<Figure size 640x480 with 1 Axes>"
            ]
          },
          "metadata": {},
          "output_type": "display_data"
        }
      ],
      "source": [
        "plt.plot(test_losses)\n",
        "plt.xlabel('Epoch')\n",
        "plt.ylabel('Loss')\n",
        "plt.title('Test Loss')\n",
        "plt.show()"
      ]
    },
    {
      "cell_type": "code",
      "execution_count": 26,
      "metadata": {},
      "outputs": [
        {
          "data": {
            "image/png": "[encoded data removed]",
            "text/plain": [
              "<Figure size 640x480 with 2 Axes>"
            ]
          },
          "metadata": {},
          "output_type": "display_data"
        },
        {
          "name": "stdout",
          "output_type": "stream",
          "text": [
            "10000\n"
          ]
        }
      ],
      "source": [
        "confusion = confusion_matrix(all_labels, all_predictions)\n",
        "sns.heatmap(confusion, annot=True, cmap=\"Blues\", fmt=\"d\")\n",
        "plt.xlabel(\"Predicted\")\n",
        "plt.ylabel(\"True\")\n",
        "plt.show()\n",
        "print(len(all_labels))"
      ]
    },
    {
      "cell_type": "code",
      "execution_count": 27,
      "metadata": {},
      "outputs": [
        {
          "data": {
            "image/png": "[encoded data removed]",
            "text/plain": [
              "<Figure size 640x480 with 1 Axes>"
            ]
          },
          "metadata": {},
          "output_type": "display_data"
        },
        {
          "data": {
            "image/png": "[encoded data removed]",
            "text/plain": [
              "<Figure size 640x480 with 1 Axes>"
            ]
          },
          "metadata": {},
          "output_type": "display_data"
        },
        {
          "data": {
            "image/png": "[encoded data removed]",
            "text/plain": [
              "<Figure size 640x480 with 1 Axes>"
            ]
          },
          "metadata": {},
          "output_type": "display_data"
        },
        {
          "data": {
            "image/png": "[encoded data removed]",
            "text/plain": [
              "<Figure size 640x480 with 1 Axes>"
            ]
          },
          "metadata": {},
          "output_type": "display_data"
        },
        {
          "data": {
            "image/png": "[encoded data removed]",
            "text/plain": [
              "<Figure size 640x480 with 1 Axes>"
            ]
          },
          "metadata": {},
          "output_type": "display_data"
        },
        {
          "data": {
            "image/png": "[encoded data removed]",
            "text/plain": [
              "<Figure size 640x480 with 1 Axes>"
            ]
          },
          "metadata": {},
          "output_type": "display_data"
        },
        {
          "data": {
            "image/png": "[encoded data removed]",
            "text/plain": [
              "<Figure size 640x480 with 1 Axes>"
            ]
          },
          "metadata": {},
          "output_type": "display_data"
        },
        {
          "data": {
            "image/png": "[encoded data removed]",
            "text/plain": [
              "<Figure size 640x480 with 1 Axes>"
            ]
          },
          "metadata": {},
          "output_type": "display_data"
        },
        {
          "data": {
            "image/png": "[encoded data removed]",
            "text/plain": [
              "<Figure size 640x480 with 1 Axes>"
            ]
          },
          "metadata": {},
          "output_type": "display_data"
        },
        {
          "data": {
            "image/png": "[encoded data removed]",
            "text/plain": [
              "<Figure size 640x480 with 1 Axes>"
            ]
          },
          "metadata": {},
          "output_type": "display_data"
        }
      ],
      "source": [
        "for i in range(10):\n",
        "    first_test_image = inputs_test[i].numpy().reshape(28, 28)\n",
        "    first_test_label = predicted_test[i]\n",
        "\n",
        "    plt.imshow(first_test_image, cmap='gray') \n",
        "    plt.axis('off')\n",
        "    plt.title(f\"Prediction: {first_test_label.item()}\") \n",
        "    plt.show()"
      ]
    },
    {
      "cell_type": "markdown",
      "metadata": {
        "id": "juLVkms2FuA8"
      },
      "source": [
        "# Questão 3"
      ]
    },
    {
      "cell_type": "markdown",
      "metadata": {
        "id": "DA4ayAGIHcBE"
      },
      "source": [
        "3-) Implemente uma CNN para resolver o problema de classificação de objetos em imagens\n",
        "utilizando a base de dados CIFAR-10, disponível: https://www.cs.toronto.edu/~kriz/cifar.html.\n",
        "\n",
        "Apresente também a curva do erro médio e a matriz de confusão do modelo treinado."
      ]
    },
    {
      "cell_type": "markdown",
      "metadata": {},
      "source": [
        "## Extração dos dados"
      ]
    },
    {
      "cell_type": "code",
      "execution_count": 77,
      "metadata": {},
      "outputs": [],
      "source": [
        "def unpickle(file):\n",
        "    with open(file, 'rb') as fo:\n",
        "        dict = pickle.load(fo, encoding='bytes')\n",
        "    return dict\n",
        "\n",
        "def load_cifar10_data():\n",
        "    train_data = []\n",
        "    train_labels = []\n",
        "    for i in range(1, 6):\n",
        "        data_dict = unpickle(f'cifar10/data_batch_{i}')\n",
        "        if i == 1:\n",
        "            train_data = data_dict[b'data']\n",
        "            train_labels = data_dict[b'labels']\n",
        "        else:\n",
        "            train_data = np.vstack((train_data, data_dict[b'data']))\n",
        "            train_labels += data_dict[b'labels']\n",
        "\n",
        "    test_data_dict = unpickle('cifar10/test_batch')\n",
        "    test_data = test_data_dict[b'data']\n",
        "    test_labels = test_data_dict[b'labels']\n",
        "\n",
        "    return train_data, train_labels, test_data, test_labels\n",
        "\n",
        "train_data, train_labels, test_data, test_labels = load_cifar10_data()"
      ]
    },
    {
      "cell_type": "code",
      "execution_count": 41,
      "metadata": {},
      "outputs": [
        {
          "data": {
            "text/plain": [
              "(50000, 3072)"
            ]
          },
          "execution_count": 41,
          "metadata": {},
          "output_type": "execute_result"
        }
      ],
      "source": [
        "train_data.shape"
      ]
    },
    {
      "cell_type": "code",
      "execution_count": 90,
      "metadata": {},
      "outputs": [
        {
          "data": {
            "image/png": "[encoded data removed]",
            "text/plain": [
              "<Figure size 640x480 with 1 Axes>"
            ]
          },
          "metadata": {},
          "output_type": "display_data"
        }
      ],
      "source": [
        "def display_image(data):\n",
        "    R = data[0:1024].reshape(32,32)\n",
        "    G = data[1024:2048].reshape(32,32)\n",
        "    B = data[2048:].reshape(32,32)\n",
        "    img = np.dstack((R, G, B))\n",
        "    plt.imshow(img)\n",
        "    plt.axis('off')\n",
        "    plt.show()\n",
        "\n",
        "display_image(train_data[4])"
      ]
    },
    {
      "cell_type": "code",
      "execution_count": 75,
      "metadata": {},
      "outputs": [
        {
          "data": {
            "text/plain": [
              "{b'num_cases_per_batch': 10000,\n",
              " b'label_names': [b'airplane',\n",
              "  b'automobile',\n",
              "  b'bird',\n",
              "  b'cat',\n",
              "  b'deer',\n",
              "  b'dog',\n",
              "  b'frog',\n",
              "  b'horse',\n",
              "  b'ship',\n",
              "  b'truck'],\n",
              " b'num_vis': 3072}"
            ]
          },
          "execution_count": 75,
          "metadata": {},
          "output_type": "execute_result"
        }
      ],
      "source": [
        "def create_label_dict(label_names):\n",
        "    label_dict = {i: name for i, name in enumerate(label_names)}\n",
        "    return label_dict\n",
        "\n",
        "label_names = unpickle('cifar10/batches.meta')\n",
        "label_names "
      ]
    },
    {
      "cell_type": "code",
      "execution_count": 85,
      "metadata": {},
      "outputs": [
        {
          "name": "stdout",
          "output_type": "stream",
          "text": [
            "{0: 'plane', 1: 'auto', 2: 'bird', 3: 'cat', 4: 'deer', 5: 'dog', 6: 'frog', 7: 'horse', 8: 'ship', 9: 'truck'}\n"
          ]
        }
      ],
      "source": [
        "label_names = ['plane', 'auto', 'bird', 'cat', 'deer', 'dog', 'frog', 'horse', 'ship', 'truck']\n",
        "label_dict = create_label_dict(label_names)\n",
        "print(label_dict)"
      ]
    },
    {
      "cell_type": "code",
      "execution_count": 63,
      "metadata": {},
      "outputs": [],
      "source": [
        "train_data = train_data.reshape(train_data.shape[0], 3, 32, 32)\n",
        "train_data = train_data.transpose(0, 2, 3, 1)\n",
        "test_data = test_data.reshape(test_data.shape[0], 3, 32, 32)\n",
        "test_data = test_data.transpose(0, 2, 3, 1)"
      ]
    },
    {
      "cell_type": "code",
      "execution_count": 64,
      "metadata": {},
      "outputs": [],
      "source": [
        "train_labels = np.array(train_labels)\n",
        "test_labels = np.array(test_labels)"
      ]
    },
    {
      "cell_type": "code",
      "execution_count": 65,
      "metadata": {},
      "outputs": [
        {
          "name": "stdout",
          "output_type": "stream",
          "text": [
            "(50000, 32, 32, 3)\n",
            "(10000, 32, 32, 3)\n",
            "(50000,)\n",
            "(10000,)\n"
          ]
        }
      ],
      "source": [
        "print(train_data.shape)\n",
        "print(test_data.shape)\n",
        "print(train_labels.shape)\n",
        "print(test_labels.shape)"
      ]
    },
    {
      "cell_type": "code",
      "execution_count": 61,
      "metadata": {},
      "outputs": [],
      "source": [
        "train_data = train_data / 255.0\n",
        "test_data = test_data / 255.0"
      ]
    },
    {
      "cell_type": "markdown",
      "metadata": {},
      "source": [
        "## Execução do Modelo(CNN)"
      ]
    },
    {
      "cell_type": "code",
      "execution_count": 67,
      "metadata": {},
      "outputs": [],
      "source": [
        "train_data_tensor = torch.tensor(train_data, dtype=torch.float32).permute(0, 3, 1, 2)\n",
        "train_labels_tensor = torch.tensor(train_labels, dtype=torch.long)\n",
        "test_data_tensor = torch.tensor(test_data, dtype=torch.float32).permute(0, 3, 1, 2)\n",
        "test_labels_tensor = torch.tensor(test_labels, dtype=torch.long)\n",
        "\n",
        "train_dataset = TensorDataset(train_data_tensor, train_labels_tensor)\n",
        "test_dataset = TensorDataset(test_data_tensor, test_labels_tensor)\n",
        "\n",
        "batch_size = 2048\n",
        "\n",
        "train_loader = DataLoader(train_dataset, batch_size=batch_size, shuffle=True)\n",
        "test_loader = DataLoader(test_dataset, batch_size=batch_size, shuffle=False)"
      ]
    },
    {
      "cell_type": "code",
      "execution_count": 68,
      "metadata": {},
      "outputs": [],
      "source": [
        "class CNNCifar(nn.Module):\n",
        "    def __init__(self):\n",
        "        super(CNNCifar, self).__init__()\n",
        "        self.conv1 = nn.Conv2d(3, 32, kernel_size=3, stride=1, padding=1)\n",
        "        self.conv2 = nn.Conv2d(32, 64, kernel_size=3, stride=1, padding=1)\n",
        "        self.conv3 = nn.Conv2d(64, 128, kernel_size=3, stride=1, padding=1)\n",
        "        self.pool = nn.MaxPool2d(2, 2)\n",
        "        self.fc1 = nn.Linear(128 * 4 * 4, 256)\n",
        "        self.fc2 = nn.Linear(256, 10)\n",
        "\n",
        "    def forward(self, x):\n",
        "        x = self.pool(torch.relu(self.conv1(x)))\n",
        "        x = self.pool(torch.relu(self.conv2(x)))\n",
        "        x = self.pool(torch.relu(self.conv3(x)))\n",
        "        x = x.view(-1, 128 * 4 * 4)\n",
        "        x = torch.relu(self.fc1(x))\n",
        "        x = self.fc2(x)\n",
        "        return x"
      ]
    },
    {
      "cell_type": "code",
      "execution_count": 69,
      "metadata": {},
      "outputs": [],
      "source": [
        "learning_rate = 0.001\n",
        "num_epochs = 15\n",
        "\n",
        "model = CNNCifar()\n",
        "criterion = nn.CrossEntropyLoss()\n",
        "optimizer = optim.Adam(model.parameters(), lr=learning_rate)"
      ]
    },
    {
      "cell_type": "code",
      "execution_count": 70,
      "metadata": {},
      "outputs": [
        {
          "name": "stdout",
          "output_type": "stream",
          "text": [
            "Epoch [1/15], Train Loss: 0.0810, Train Accuracy: 0.1610, Test Loss: 0.4093, Test Accuracy: 0.2584\n",
            "Epoch [2/15], Train Loss: 0.0686, Train Accuracy: 0.3668, Test Loss: 0.3285, Test Accuracy: 0.4117\n",
            "Epoch [3/15], Train Loss: 0.0574, Train Accuracy: 0.4575, Test Loss: 0.2910, Test Accuracy: 0.4875\n",
            "Epoch [4/15], Train Loss: 0.0537, Train Accuracy: 0.5097, Test Loss: 0.3086, Test Accuracy: 0.4547\n",
            "Epoch [5/15], Train Loss: 0.0523, Train Accuracy: 0.5318, Test Loss: 0.2603, Test Accuracy: 0.5376\n",
            "Epoch [6/15], Train Loss: 0.0486, Train Accuracy: 0.5735, Test Loss: 0.2478, Test Accuracy: 0.5664\n",
            "Epoch [7/15], Train Loss: 0.0428, Train Accuracy: 0.6027, Test Loss: 0.2347, Test Accuracy: 0.5945\n",
            "Epoch [8/15], Train Loss: 0.0431, Train Accuracy: 0.6253, Test Loss: 0.2374, Test Accuracy: 0.5965\n",
            "Epoch [9/15], Train Loss: 0.0415, Train Accuracy: 0.6402, Test Loss: 0.2336, Test Accuracy: 0.6039\n",
            "Epoch [10/15], Train Loss: 0.0361, Train Accuracy: 0.6633, Test Loss: 0.2168, Test Accuracy: 0.6344\n",
            "Epoch [11/15], Train Loss: 0.0359, Train Accuracy: 0.6782, Test Loss: 0.2309, Test Accuracy: 0.6199\n",
            "Epoch [12/15], Train Loss: 0.0344, Train Accuracy: 0.6907, Test Loss: 0.2137, Test Accuracy: 0.6400\n",
            "Epoch [13/15], Train Loss: 0.0331, Train Accuracy: 0.7111, Test Loss: 0.2043, Test Accuracy: 0.6555\n",
            "Epoch [14/15], Train Loss: 0.0341, Train Accuracy: 0.7267, Test Loss: 0.2056, Test Accuracy: 0.6602\n",
            "Epoch [15/15], Train Loss: 0.0330, Train Accuracy: 0.7418, Test Loss: 0.2040, Test Accuracy: 0.6594\n"
          ]
        }
      ],
      "source": [
        "train_losses = []\n",
        "train_accuracies = []\n",
        "test_losses = []\n",
        "test_accuracies = []\n",
        "\n",
        "for epoch in range(num_epochs):\n",
        "    # Treinamento\n",
        "    model.train()\n",
        "    correct_train = 0\n",
        "    total_train = 0\n",
        "    for inputs, labels in train_loader:\n",
        "        optimizer.zero_grad()\n",
        "        outputs = model(inputs)\n",
        "        loss = criterion(outputs, labels)\n",
        "        \n",
        "        loss.backward()\n",
        "        optimizer.step()\n",
        "        \n",
        "        _, predicted = torch.max(outputs, 1)\n",
        "        total_train += labels.size(0)\n",
        "        correct_train += (predicted == labels).sum().item()\n",
        "        \n",
        "    train_loss = loss.item() / len(train_loader)\n",
        "    train_accuracy = correct_train / total_train\n",
        "    train_losses.append(train_loss)\n",
        "    train_accuracies.append(train_accuracy)\n",
        "    \n",
        "    # Validação\n",
        "    model.eval()\n",
        "    correct_test = 0\n",
        "    total_test = 0\n",
        "    with torch.no_grad():\n",
        "        all_labels = []\n",
        "        all_predictions = []\n",
        "        for inputs_test, labels_test in test_loader:\n",
        "            outputs_test = model(inputs_test)\n",
        "            loss_test = criterion(outputs_test, labels_test)\n",
        "            \n",
        "            _, predicted_test = torch.max(outputs_test, 1)\n",
        "            all_labels.extend(labels_test.numpy())\n",
        "            all_predictions.extend(predicted_test.numpy())\n",
        "            total_test += labels_test.size(0)\n",
        "            correct_test += (predicted_test == labels_test).sum().item()\n",
        "        \n",
        "        test_loss = loss_test.item() / len(test_loader)\n",
        "        test_accuracy = correct_test / total_test\n",
        "        test_losses.append(test_loss)\n",
        "        test_accuracies.append(test_accuracy)\n",
        "    \n",
        "    print(f\"Epoch [{epoch+1}/{num_epochs}], Train Loss: {train_loss:.4f}, Train Accuracy: {train_accuracy:.4f}, Test Loss: {test_loss:.4f}, Test Accuracy: {test_accuracy:.4f}\")"
      ]
    },
    {
      "cell_type": "code",
      "execution_count": 71,
      "metadata": {},
      "outputs": [
        {
          "data": {
            "image/png": "[encoded data removed]",
            "text/plain": [
              "<Figure size 640x480 with 1 Axes>"
            ]
          },
          "metadata": {},
          "output_type": "display_data"
        }
      ],
      "source": [
        "plt.plot(train_losses)\n",
        "plt.xlabel('Epoch')\n",
        "plt.ylabel('Loss')\n",
        "plt.title('Training Loss')\n",
        "plt.show()"
      ]
    },
    {
      "cell_type": "code",
      "execution_count": 73,
      "metadata": {},
      "outputs": [
        {
          "data": {
            "image/png": "[encoded data removed]",
            "text/plain": [
              "<Figure size 640x480 with 1 Axes>"
            ]
          },
          "metadata": {},
          "output_type": "display_data"
        }
      ],
      "source": [
        "plt.plot(test_losses)\n",
        "plt.xlabel('Epoch')\n",
        "plt.ylabel('Loss')\n",
        "plt.title('Test Loss')\n",
        "plt.show()"
      ]
    },
    {
      "cell_type": "code",
      "execution_count": 86,
      "metadata": {},
      "outputs": [
        {
          "data": {
            "image/png": "[encoded data removed]",
            "text/plain": [
              "<Figure size 1000x800 with 2 Axes>"
            ]
          },
          "metadata": {},
          "output_type": "display_data"
        },
        {
          "name": "stdout",
          "output_type": "stream",
          "text": [
            "10000\n"
          ]
        }
      ],
      "source": [
        "plt.figure(figsize=(10, 8))\n",
        "confusion = confusion_matrix(all_labels, all_predictions)\n",
        "heatmap = sns.heatmap(confusion, annot=True, cmap=\"Blues\", fmt=\"d\")\n",
        "heatmap.set_xticklabels(label_dict.values())\n",
        "heatmap.set_yticklabels(label_dict.values())\n",
        "plt.xlabel(\"Predicted\")\n",
        "plt.ylabel(\"True\")\n",
        "plt.show()\n",
        "print(len(all_labels))"
      ]
    },
    {
      "cell_type": "code",
      "execution_count": 116,
      "metadata": {},
      "outputs": [
        {
          "data": {
            "image/png": "[encoded data removed]",
            "text/plain": [
              "<Figure size 2000x2000 with 10 Axes>"
            ]
          },
          "metadata": {},
          "output_type": "display_data"
        }
      ],
      "source": [
        "fig = plt.figure(figsize=(20, 20))\n",
        "\n",
        "for i in range(10):\n",
        "    img = test_data[i]\n",
        "    # Reshape and reorder the image data\n",
        "    img_R = img[:1024].reshape(32, 32)\n",
        "    img_B = img[1024:2048].reshape(32, 32)\n",
        "    img_G = img[2048:].reshape(32, 32)\n",
        "    img_RGB = np.dstack((img_R, img_B, img_G))\n",
        "    \n",
        "    ax = fig.add_subplot(2, 5, i+1)\n",
        "    ax.imshow(img_RGB, cmap='gray')\n",
        "    predicted_class = predicted_test[i].item()\n",
        "    ax.set_title(f\"Predicted: {label_dict[predicted_class]}\")\n",
        "    ax.axis('off')\n",
        "\n",
        "plt.show()"
      ]
    }
  ],
  "metadata": {
    "colab": {
      "provenance": []
    },
    "kernelspec": {
      "display_name": "Python 3",
      "name": "python3"
    },
    "language_info": {
      "codemirror_mode": {
        "name": "ipython",
        "version": 3
      },
      "file_extension": ".py",
      "mimetype": "text/x-python",
      "name": "python",
      "nbconvert_exporter": "python",
      "pygments_lexer": "ipython3",
      "version": "3.12.1"
    }
  },
  "nbformat": 4,
  "nbformat_minor": 0
}
